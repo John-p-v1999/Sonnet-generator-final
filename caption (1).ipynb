{
  "nbformat": 4,
  "nbformat_minor": 0,
  "metadata": {
    "colab": {
      "name": "caption.ipynb",
      "provenance": [],
      "collapsed_sections": [],
      "machine_shape": "hm"
    },
    "kernelspec": {
      "name": "python3",
      "display_name": "Python 3"
    },
    "accelerator": "GPU"
  },
  "cells": [
    {
      "cell_type": "code",
      "metadata": {
        "id": "Y2GPl1ClH5YU"
      },
      "source": [
        "import os\n",
        "import pickle\n",
        "import numpy as np\n",
        "\n",
        "\n",
        "\n",
        "\n",
        "def cache(cache_path, fn, *args, **kwargs):\n",
        "    \n",
        "\n",
        "    # If the cache-file exists.\n",
        "    if os.path.exists(cache_path):\n",
        "        # Load the cached data from the file.\n",
        "        with open(cache_path, mode='rb') as file:\n",
        "            obj = pickle.load(file)\n",
        "\n",
        "        print(\"- Data loaded from cache-file: \" + cache_path)\n",
        "    else:\n",
        "        # The cache-file does not exist.\n",
        "\n",
        "        # Call the function / class-init with the supplied arguments.\n",
        "        obj = fn(*args, **kwargs)\n",
        "\n",
        "        # Save the data to a cache-file.\n",
        "        with open(cache_path, mode='wb') as file:\n",
        "            pickle.dump(obj, file)\n",
        "\n",
        "        print(\"- Data saved to cache-file: \" + cache_path)\n",
        "\n",
        "    return obj\n"
      ],
      "execution_count": 1,
      "outputs": []
    },
    {
      "cell_type": "code",
      "metadata": {
        "id": "O-v1mlWxGRP8",
        "outputId": "b4337315-e5a3-43a2-ee3d-23dd283cbe49",
        "colab": {
          "base_uri": "https://localhost:8080/",
          "height": 34
        }
      },
      "source": [
        "from tensorflow import keras\n",
        "print(keras.__version__)"
      ],
      "execution_count": null,
      "outputs": [
        {
          "output_type": "stream",
          "text": [
            "2.4.0\n"
          ],
          "name": "stdout"
        }
      ]
    },
    {
      "cell_type": "code",
      "metadata": {
        "id": "znEAoJSUIA3d"
      },
      "source": [
        "import json\n",
        "import os\n",
        "\n",
        "\n",
        "\n",
        "\n",
        "\n",
        "\n",
        "data_dir = \"/content/gdrive/My Drive/coco/\"\n",
        "\n",
        "# Sub-directories for the training- and validation-sets.\n",
        "\n",
        "val_dir = \"/content/gdrive/My Drive/coco/val2014/\"\n",
        "train_dir=\"/content/gdrive/My Drive/coco/train2014/\"\n",
        "\n",
        "# Base-URL for the data-sets on the internet.\n",
        "data_url = \"http://images.cocodataset.org/\"\n",
        "\n",
        "\n",
        "########################################################################\n",
        "\n",
        "\n",
        "def _load_records(train=False):\n",
        "    \"\"\"\n",
        "    Load the image-filenames and captions\n",
        "    for either the training-set or the validation-set.\n",
        "    \"\"\"\n",
        "\n",
        "    if train:\n",
        "        # Training-set.\n",
        "        filename = \"captions_train2014.json\"\n",
        "    else:\n",
        "        # Validation-set.\n",
        "        filename = \"captions_val2014.json\"\n",
        "\n",
        "    # Full path for the data-file.\n",
        "    path = os.path.join(data_dir, \"annotations\", filename)\n",
        "\n",
        "    # Load the file.\n",
        "    with open(path, \"r\", encoding=\"utf-8\") as file:\n",
        "        data_raw = json.load(file)\n",
        "\n",
        "    # Convenience variables.\n",
        "    images = data_raw['images']\n",
        "    annotations = data_raw['annotations']\n",
        "\n",
        "    # Initialize the dict for holding our data.\n",
        "    # The lookup-key is the image-id.\n",
        "    records = dict()\n",
        "\n",
        "    # Collect all the filenames for the images.\n",
        "    for image in images:\n",
        "        # Get the id and filename for this image.\n",
        "        image_id = image['id']\n",
        "        filename = image['file_name']\n",
        "\n",
        "        # Initialize a new data-record.\n",
        "        record = dict()\n",
        "\n",
        "        # Set the image-filename in the data-record.\n",
        "        record['filename'] = filename\n",
        "\n",
        "        # Initialize an empty list of image-captions\n",
        "        # which will be filled further below.\n",
        "        record['captions'] = list()\n",
        "\n",
        "        # Save the record using the the image-id as the lookup-key.\n",
        "        records[image_id] = record\n",
        "\n",
        "    # Collect all the captions for the images.\n",
        "    for ann in annotations:\n",
        "        # Get the id and caption for an image.\n",
        "        image_id = ann['image_id']\n",
        "        caption = ann['caption']\n",
        "\n",
        "        # Lookup the data-record for this image-id.\n",
        "        # This data-record should already exist from the loop above.\n",
        "        record = records[image_id]\n",
        "\n",
        "        # Append the current caption to the list of captions in the\n",
        "        # data-record that was initialized in the loop above.\n",
        "        record['captions'].append(caption)\n",
        "\n",
        "    # Convert the records-dict to a list of tuples.\n",
        "    records_list = [(key, record['filename'], record['captions'])\n",
        "                    for key, record in sorted(records.items())]\n",
        "\n",
        "    # Convert the list of tuples to separate tuples with the data.\n",
        "    ids, filenames, captions = zip(*records_list)\n",
        "\n",
        "    return ids, filenames, captions\n",
        "\n",
        "\n",
        "\n",
        "\n",
        "\n",
        "\n",
        "\n",
        "def load_records(train=False):\n",
        "  \n",
        "\n",
        "    if train:\n",
        "        # Cache-file for the training-set data.\n",
        "        cache_filename = \"records_train.pkl\"\n",
        "    else:\n",
        "        # Cache-file for the validation-set data.\n",
        "        cache_filename = \"records_val.pkl\"\n",
        "\n",
        "    # Path for the cache-file.\n",
        "    cache_path = os.path.join(data_dir, cache_filename)\n",
        "\n",
        "    # If the data-records already exist in a cache-file then load it,\n",
        "    # otherwise call the _load_records() function and save its\n",
        "    # return-values to the cache-file so it can be loaded the next time.\n",
        "    records = cache(cache_path=cache_path,\n",
        "                    fn=_load_records,\n",
        "                    train=train)\n",
        "\n",
        "    return records"
      ],
      "execution_count": 2,
      "outputs": []
    },
    {
      "cell_type": "code",
      "metadata": {
        "id": "zVFp8ix4IJPn",
        "outputId": "596d0803-606b-4c82-8d6d-5738f27aa624",
        "colab": {
          "base_uri": "https://localhost:8080/",
          "height": 34
        }
      },
      "source": [
        "from google.colab import drive\n",
        "drive.mount('/content/gdrive/')"
      ],
      "execution_count": 3,
      "outputs": [
        {
          "output_type": "stream",
          "text": [
            "Mounted at /content/gdrive/\n"
          ],
          "name": "stdout"
        }
      ]
    },
    {
      "cell_type": "markdown",
      "metadata": {
        "id": "pjpJtJzPEXab"
      },
      "source": [
        "Getting the names of images in directory. images are loaded based on their names\n",
        "\n",
        "initially the names were taken using os.listdir().using this command is compute heavy.\n",
        "So after loading, it was stored as a .pickle file for easy loading\n",
        "\n"
      ]
    },
    {
      "cell_type": "code",
      "metadata": {
        "id": "OnUKzQPSIM5D"
      },
      "source": [
        "name=os.listdir('/content/gdrive/My Drive/coco/val2014')"
      ],
      "execution_count": null,
      "outputs": []
    },
    {
      "cell_type": "code",
      "metadata": {
        "id": "CyrsDwjk3yPz"
      },
      "source": [
        " with open(os.path.join(data_dir, \"val_names2014.pickle\"), mode='rb') as file:\n",
        "            name = pickle.load(file)"
      ],
      "execution_count": 4,
      "outputs": []
    },
    {
      "cell_type": "code",
      "metadata": {
        "id": "Pxpc47bMKrKT",
        "outputId": "5c7bee8f-2b0a-4ab3-f4e6-0633ad5a988a",
        "colab": {
          "base_uri": "https://localhost:8080/",
          "height": 1000
        }
      },
      "source": [
        "name"
      ],
      "execution_count": null,
      "outputs": [
        {
          "output_type": "execute_result",
          "data": {
            "text/plain": [
              "['COCO_val2014_000000306135.jpg',\n",
              " 'COCO_val2014_000000533511.jpg',\n",
              " 'COCO_val2014_000000258023.jpg',\n",
              " 'COCO_val2014_000000551811.jpg',\n",
              " 'COCO_val2014_000000083476.jpg',\n",
              " 'COCO_val2014_000000017776.jpg',\n",
              " 'COCO_val2014_000000103488.jpg',\n",
              " 'COCO_val2014_000000543300.jpg',\n",
              " 'COCO_val2014_000000476298.jpg',\n",
              " 'COCO_val2014_000000007281.jpg',\n",
              " 'COCO_val2014_000000307292.jpg',\n",
              " 'COCO_val2014_000000502279.jpg',\n",
              " 'COCO_val2014_000000453731.jpg',\n",
              " 'COCO_val2014_000000436559.jpg',\n",
              " 'COCO_val2014_000000203846.jpg',\n",
              " 'COCO_val2014_000000522446.jpg',\n",
              " 'COCO_val2014_000000286458.jpg',\n",
              " 'COCO_val2014_000000131800.jpg',\n",
              " 'COCO_val2014_000000091612.jpg',\n",
              " 'COCO_val2014_000000010526.jpg',\n",
              " 'COCO_val2014_000000404923.jpg',\n",
              " 'COCO_val2014_000000066700.jpg',\n",
              " 'COCO_val2014_000000479149.jpg',\n",
              " 'COCO_val2014_000000008080.jpg',\n",
              " 'COCO_val2014_000000269511.jpg',\n",
              " 'COCO_val2014_000000093393.jpg',\n",
              " 'COCO_val2014_000000480408.jpg',\n",
              " 'COCO_val2014_000000467956.jpg',\n",
              " 'COCO_val2014_000000033835.jpg',\n",
              " 'COCO_val2014_000000370475.jpg',\n",
              " 'COCO_val2014_000000086323.jpg',\n",
              " 'COCO_val2014_000000471691.jpg',\n",
              " 'COCO_val2014_000000133648.jpg',\n",
              " 'COCO_val2014_000000261082.jpg',\n",
              " 'COCO_val2014_000000111988.jpg',\n",
              " 'COCO_val2014_000000009801.jpg',\n",
              " 'COCO_val2014_000000083574.jpg',\n",
              " 'COCO_val2014_000000093411.jpg',\n",
              " 'COCO_val2014_000000436791.jpg',\n",
              " 'COCO_val2014_000000080057.jpg',\n",
              " 'COCO_val2014_000000049259.jpg',\n",
              " 'COCO_val2014_000000352000.jpg',\n",
              " 'COCO_val2014_000000293027.jpg',\n",
              " 'COCO_val2014_000000440575.jpg',\n",
              " 'COCO_val2014_000000138838.jpg',\n",
              " 'COCO_val2014_000000040083.jpg',\n",
              " 'COCO_val2014_000000149962.jpg',\n",
              " 'COCO_val2014_000000356323.jpg',\n",
              " 'COCO_val2014_000000420090.jpg',\n",
              " 'COCO_val2014_000000363072.jpg',\n",
              " 'COCO_val2014_000000347648.jpg',\n",
              " 'COCO_val2014_000000148188.jpg',\n",
              " 'COCO_val2014_000000373713.jpg',\n",
              " 'COCO_val2014_000000508818.jpg',\n",
              " 'COCO_val2014_000000227440.jpg',\n",
              " 'COCO_val2014_000000476215.jpg',\n",
              " 'COCO_val2014_000000158708.jpg',\n",
              " 'COCO_val2014_000000169198.jpg',\n",
              " 'COCO_val2014_000000196442.jpg',\n",
              " 'COCO_val2014_000000561037.jpg',\n",
              " 'COCO_val2014_000000408103.jpg',\n",
              " 'COCO_val2014_000000505528.jpg',\n",
              " 'COCO_val2014_000000284375.jpg',\n",
              " 'COCO_val2014_000000341318.jpg',\n",
              " 'COCO_val2014_000000369482.jpg',\n",
              " 'COCO_val2014_000000148067.jpg',\n",
              " 'COCO_val2014_000000266922.jpg',\n",
              " 'COCO_val2014_000000090442.jpg',\n",
              " 'COCO_val2014_000000122213.jpg',\n",
              " 'COCO_val2014_000000289640.jpg',\n",
              " 'COCO_val2014_000000356261.jpg',\n",
              " 'COCO_val2014_000000159977.jpg',\n",
              " 'COCO_val2014_000000253095.jpg',\n",
              " 'COCO_val2014_000000087156.jpg',\n",
              " 'COCO_val2014_000000019579.jpg',\n",
              " 'COCO_val2014_000000278222.jpg',\n",
              " 'COCO_val2014_000000079034.jpg',\n",
              " 'COCO_val2014_000000264819.jpg',\n",
              " 'COCO_val2014_000000459887.jpg',\n",
              " 'COCO_val2014_000000123176.jpg',\n",
              " 'COCO_val2014_000000559417.jpg',\n",
              " 'COCO_val2014_000000231758.jpg',\n",
              " 'COCO_val2014_000000077123.jpg',\n",
              " 'COCO_val2014_000000213961.jpg',\n",
              " 'COCO_val2014_000000467116.jpg',\n",
              " 'COCO_val2014_000000263346.jpg',\n",
              " 'COCO_val2014_000000016010.jpg',\n",
              " 'COCO_val2014_000000486986.jpg',\n",
              " 'COCO_val2014_000000559294.jpg',\n",
              " 'COCO_val2014_000000111054.jpg',\n",
              " 'COCO_val2014_000000186632.jpg',\n",
              " 'COCO_val2014_000000341838.jpg',\n",
              " 'COCO_val2014_000000098115.jpg',\n",
              " 'COCO_val2014_000000174425.jpg',\n",
              " 'COCO_val2014_000000003553.jpg',\n",
              " 'COCO_val2014_000000370657.jpg',\n",
              " 'COCO_val2014_000000343951.jpg',\n",
              " 'COCO_val2014_000000441824.jpg',\n",
              " 'COCO_val2014_000000027731.jpg',\n",
              " 'COCO_val2014_000000484982.jpg',\n",
              " 'COCO_val2014_000000570138.jpg',\n",
              " 'COCO_val2014_000000325459.jpg',\n",
              " 'COCO_val2014_000000565624.jpg',\n",
              " 'COCO_val2014_000000341635.jpg',\n",
              " 'COCO_val2014_000000514529.jpg',\n",
              " 'COCO_val2014_000000342490.jpg',\n",
              " 'COCO_val2014_000000482134.jpg',\n",
              " 'COCO_val2014_000000184207.jpg',\n",
              " 'COCO_val2014_000000293564.jpg',\n",
              " 'COCO_val2014_000000398097.jpg',\n",
              " 'COCO_val2014_000000524979.jpg',\n",
              " 'COCO_val2014_000000161163.jpg',\n",
              " 'COCO_val2014_000000312388.jpg',\n",
              " 'COCO_val2014_000000406332.jpg',\n",
              " 'COCO_val2014_000000226111.jpg',\n",
              " 'COCO_val2014_000000205776.jpg',\n",
              " 'COCO_val2014_000000234590.jpg',\n",
              " 'COCO_val2014_000000202329.jpg',\n",
              " 'COCO_val2014_000000430420.jpg',\n",
              " 'COCO_val2014_000000380834.jpg',\n",
              " 'COCO_val2014_000000434263.jpg',\n",
              " 'COCO_val2014_000000472598.jpg',\n",
              " 'COCO_val2014_000000555696.jpg',\n",
              " 'COCO_val2014_000000004916.jpg',\n",
              " 'COCO_val2014_000000570077.jpg',\n",
              " 'COCO_val2014_000000305871.jpg',\n",
              " 'COCO_val2014_000000190680.jpg',\n",
              " 'COCO_val2014_000000085268.jpg',\n",
              " 'COCO_val2014_000000276840.jpg',\n",
              " 'COCO_val2014_000000454329.jpg',\n",
              " 'COCO_val2014_000000196742.jpg',\n",
              " 'COCO_val2014_000000482485.jpg',\n",
              " 'COCO_val2014_000000428125.jpg',\n",
              " 'COCO_val2014_000000332512.jpg',\n",
              " 'COCO_val2014_000000329711.jpg',\n",
              " 'COCO_val2014_000000035435.jpg',\n",
              " 'COCO_val2014_000000337497.jpg',\n",
              " 'COCO_val2014_000000082259.jpg',\n",
              " 'COCO_val2014_000000045478.jpg',\n",
              " 'COCO_val2014_000000479805.jpg',\n",
              " 'COCO_val2014_000000231628.jpg',\n",
              " 'COCO_val2014_000000502854.jpg',\n",
              " 'COCO_val2014_000000505638.jpg',\n",
              " 'COCO_val2014_000000174247.jpg',\n",
              " 'COCO_val2014_000000072810.jpg',\n",
              " 'COCO_val2014_000000569001.jpg',\n",
              " 'COCO_val2014_000000124486.jpg',\n",
              " 'COCO_val2014_000000220367.jpg',\n",
              " 'COCO_val2014_000000264282.jpg',\n",
              " 'COCO_val2014_000000578713.jpg',\n",
              " 'COCO_val2014_000000260440.jpg',\n",
              " 'COCO_val2014_000000222295.jpg',\n",
              " 'COCO_val2014_000000561121.jpg',\n",
              " 'COCO_val2014_000000376059.jpg',\n",
              " 'COCO_val2014_000000474499.jpg',\n",
              " 'COCO_val2014_000000327617.jpg',\n",
              " 'COCO_val2014_000000032812.jpg',\n",
              " 'COCO_val2014_000000248395.jpg',\n",
              " 'COCO_val2014_000000139168.jpg',\n",
              " 'COCO_val2014_000000220739.jpg',\n",
              " 'COCO_val2014_000000252738.jpg',\n",
              " 'COCO_val2014_000000576463.jpg',\n",
              " 'COCO_val2014_000000093765.jpg',\n",
              " 'COCO_val2014_000000158498.jpg',\n",
              " 'COCO_val2014_000000489624.jpg',\n",
              " 'COCO_val2014_000000110621.jpg',\n",
              " 'COCO_val2014_000000525227.jpg',\n",
              " 'COCO_val2014_000000195437.jpg',\n",
              " 'COCO_val2014_000000219688.jpg',\n",
              " 'COCO_val2014_000000269006.jpg',\n",
              " 'COCO_val2014_000000136008.jpg',\n",
              " 'COCO_val2014_000000217205.jpg',\n",
              " 'COCO_val2014_000000127182.jpg',\n",
              " 'COCO_val2014_000000100510.jpg',\n",
              " 'COCO_val2014_000000546222.jpg',\n",
              " 'COCO_val2014_000000304741.jpg',\n",
              " 'COCO_val2014_000000366659.jpg',\n",
              " 'COCO_val2014_000000522554.jpg',\n",
              " 'COCO_val2014_000000344744.jpg',\n",
              " 'COCO_val2014_000000374990.jpg',\n",
              " 'COCO_val2014_000000350157.jpg',\n",
              " 'COCO_val2014_000000357255.jpg',\n",
              " 'COCO_val2014_000000125513.jpg',\n",
              " 'COCO_val2014_000000411530.jpg',\n",
              " 'COCO_val2014_000000382850.jpg',\n",
              " 'COCO_val2014_000000015846.jpg',\n",
              " 'COCO_val2014_000000285751.jpg',\n",
              " 'COCO_val2014_000000150144.jpg',\n",
              " 'COCO_val2014_000000444390.jpg',\n",
              " 'COCO_val2014_000000144932.jpg',\n",
              " 'COCO_val2014_000000209063.jpg',\n",
              " 'COCO_val2014_000000181065.jpg',\n",
              " 'COCO_val2014_000000227523.jpg',\n",
              " 'COCO_val2014_000000299319.jpg',\n",
              " 'COCO_val2014_000000374111.jpg',\n",
              " 'COCO_val2014_000000552842.jpg',\n",
              " 'COCO_val2014_000000022423.jpg',\n",
              " 'COCO_val2014_000000448175.jpg',\n",
              " 'COCO_val2014_000000437221.jpg',\n",
              " 'COCO_val2014_000000204943.jpg',\n",
              " 'COCO_val2014_000000499716.jpg',\n",
              " 'COCO_val2014_000000014940.jpg',\n",
              " 'COCO_val2014_000000261363.jpg',\n",
              " 'COCO_val2014_000000156458.jpg',\n",
              " 'COCO_val2014_000000021989.jpg',\n",
              " 'COCO_val2014_000000565438.jpg',\n",
              " 'COCO_val2014_000000232243.jpg',\n",
              " 'COCO_val2014_000000511251.jpg',\n",
              " 'COCO_val2014_000000049005.jpg',\n",
              " 'COCO_val2014_000000120964.jpg',\n",
              " 'COCO_val2014_000000205258.jpg',\n",
              " 'COCO_val2014_000000407039.jpg',\n",
              " 'COCO_val2014_000000196413.jpg',\n",
              " 'COCO_val2014_000000148910.jpg',\n",
              " 'COCO_val2014_000000297147.jpg',\n",
              " 'COCO_val2014_000000574666.jpg',\n",
              " 'COCO_val2014_000000570998.jpg',\n",
              " 'COCO_val2014_000000067164.jpg',\n",
              " 'COCO_val2014_000000389400.jpg',\n",
              " 'COCO_val2014_000000402922.jpg',\n",
              " 'COCO_val2014_000000343629.jpg',\n",
              " 'COCO_val2014_000000202998.jpg',\n",
              " 'COCO_val2014_000000244167.jpg',\n",
              " 'COCO_val2014_000000051594.jpg',\n",
              " 'COCO_val2014_000000005804.jpg',\n",
              " 'COCO_val2014_000000259422.jpg',\n",
              " 'COCO_val2014_000000525665.jpg',\n",
              " 'COCO_val2014_000000120157.jpg',\n",
              " 'COCO_val2014_000000547607.jpg',\n",
              " 'COCO_val2014_000000486290.jpg',\n",
              " 'COCO_val2014_000000443712.jpg',\n",
              " 'COCO_val2014_000000254927.jpg',\n",
              " 'COCO_val2014_000000281028.jpg',\n",
              " 'COCO_val2014_000000093258.jpg',\n",
              " 'COCO_val2014_000000015600.jpg',\n",
              " 'COCO_val2014_000000492395.jpg',\n",
              " 'COCO_val2014_000000568690.jpg',\n",
              " 'COCO_val2014_000000532552.jpg',\n",
              " 'COCO_val2014_000000422416.jpg',\n",
              " 'COCO_val2014_000000153038.jpg',\n",
              " 'COCO_val2014_000000146193.jpg',\n",
              " 'COCO_val2014_000000177149.jpg',\n",
              " 'COCO_val2014_000000246398.jpg',\n",
              " 'COCO_val2014_000000283858.jpg',\n",
              " 'COCO_val2014_000000565877.jpg',\n",
              " 'COCO_val2014_000000022498.jpg',\n",
              " 'COCO_val2014_000000496548.jpg',\n",
              " 'COCO_val2014_000000469896.jpg',\n",
              " 'COCO_val2014_000000355256.jpg',\n",
              " 'COCO_val2014_000000160927.jpg',\n",
              " 'COCO_val2014_000000025393.jpg',\n",
              " 'COCO_val2014_000000481550.jpg',\n",
              " 'COCO_val2014_000000160661.jpg',\n",
              " 'COCO_val2014_000000334311.jpg',\n",
              " 'COCO_val2014_000000128658.jpg',\n",
              " 'COCO_val2014_000000577355.jpg',\n",
              " 'COCO_val2014_000000424270.jpg',\n",
              " 'COCO_val2014_000000324872.jpg',\n",
              " 'COCO_val2014_000000394334.jpg',\n",
              " 'COCO_val2014_000000041478.jpg',\n",
              " 'COCO_val2014_000000254750.jpg',\n",
              " 'COCO_val2014_000000089459.jpg',\n",
              " 'COCO_val2014_000000425522.jpg',\n",
              " 'COCO_val2014_000000096762.jpg',\n",
              " 'COCO_val2014_000000062311.jpg',\n",
              " 'COCO_val2014_000000248445.jpg',\n",
              " 'COCO_val2014_000000424374.jpg',\n",
              " 'COCO_val2014_000000116667.jpg',\n",
              " 'COCO_val2014_000000262686.jpg',\n",
              " 'COCO_val2014_000000161011.jpg',\n",
              " 'COCO_val2014_000000137395.jpg',\n",
              " 'COCO_val2014_000000374886.jpg',\n",
              " 'COCO_val2014_000000474003.jpg',\n",
              " 'COCO_val2014_000000496313.jpg',\n",
              " 'COCO_val2014_000000248701.jpg',\n",
              " 'COCO_val2014_000000162332.jpg',\n",
              " 'COCO_val2014_000000177101.jpg',\n",
              " 'COCO_val2014_000000342593.jpg',\n",
              " 'COCO_val2014_000000511463.jpg',\n",
              " 'COCO_val2014_000000278184.jpg',\n",
              " 'COCO_val2014_000000526580.jpg',\n",
              " 'COCO_val2014_000000579818.jpg',\n",
              " 'COCO_val2014_000000264753.jpg',\n",
              " 'COCO_val2014_000000125778.jpg',\n",
              " 'COCO_val2014_000000236884.jpg',\n",
              " 'COCO_val2014_000000566550.jpg',\n",
              " 'COCO_val2014_000000336667.jpg',\n",
              " 'COCO_val2014_000000253485.jpg',\n",
              " 'COCO_val2014_000000519542.jpg',\n",
              " 'COCO_val2014_000000548126.jpg',\n",
              " 'COCO_val2014_000000467848.jpg',\n",
              " 'COCO_val2014_000000318388.jpg',\n",
              " 'COCO_val2014_000000285325.jpg',\n",
              " 'COCO_val2014_000000305781.jpg',\n",
              " 'COCO_val2014_000000538792.jpg',\n",
              " 'COCO_val2014_000000314515.jpg',\n",
              " 'COCO_val2014_000000025717.jpg',\n",
              " 'COCO_val2014_000000498709.jpg',\n",
              " 'COCO_val2014_000000019322.jpg',\n",
              " 'COCO_val2014_000000061647.jpg',\n",
              " 'COCO_val2014_000000572210.jpg',\n",
              " 'COCO_val2014_000000425591.jpg',\n",
              " 'COCO_val2014_000000531286.jpg',\n",
              " 'COCO_val2014_000000402712.jpg',\n",
              " 'COCO_val2014_000000456046.jpg',\n",
              " 'COCO_val2014_000000048684.jpg',\n",
              " 'COCO_val2014_000000318056.jpg',\n",
              " 'COCO_val2014_000000402788.jpg',\n",
              " 'COCO_val2014_000000325483.jpg',\n",
              " 'COCO_val2014_000000519271.jpg',\n",
              " 'COCO_val2014_000000204036.jpg',\n",
              " 'COCO_val2014_000000105734.jpg',\n",
              " 'COCO_val2014_000000079261.jpg',\n",
              " 'COCO_val2014_000000031569.jpg',\n",
              " 'COCO_val2014_000000362986.jpg',\n",
              " 'COCO_val2014_000000230862.jpg',\n",
              " 'COCO_val2014_000000303603.jpg',\n",
              " 'COCO_val2014_000000539445.jpg',\n",
              " 'COCO_val2014_000000516422.jpg',\n",
              " 'COCO_val2014_000000527828.jpg',\n",
              " 'COCO_val2014_000000033144.jpg',\n",
              " 'COCO_val2014_000000216333.jpg',\n",
              " 'COCO_val2014_000000562737.jpg',\n",
              " 'COCO_val2014_000000402615.jpg',\n",
              " 'COCO_val2014_000000111864.jpg',\n",
              " 'COCO_val2014_000000351081.jpg',\n",
              " 'COCO_val2014_000000091374.jpg',\n",
              " 'COCO_val2014_000000203488.jpg',\n",
              " 'COCO_val2014_000000094666.jpg',\n",
              " 'COCO_val2014_000000277869.jpg',\n",
              " 'COCO_val2014_000000388212.jpg',\n",
              " 'COCO_val2014_000000515911.jpg',\n",
              " 'COCO_val2014_000000034321.jpg',\n",
              " 'COCO_val2014_000000088988.jpg',\n",
              " 'COCO_val2014_000000476339.jpg',\n",
              " 'COCO_val2014_000000465069.jpg',\n",
              " 'COCO_val2014_000000305437.jpg',\n",
              " 'COCO_val2014_000000560279.jpg',\n",
              " 'COCO_val2014_000000385196.jpg',\n",
              " 'COCO_val2014_000000463628.jpg',\n",
              " 'COCO_val2014_000000464719.jpg',\n",
              " 'COCO_val2014_000000134199.jpg',\n",
              " 'COCO_val2014_000000494140.jpg',\n",
              " 'COCO_val2014_000000099828.jpg',\n",
              " 'COCO_val2014_000000412978.jpg',\n",
              " 'COCO_val2014_000000318854.jpg',\n",
              " 'COCO_val2014_000000009791.jpg',\n",
              " 'COCO_val2014_000000235319.jpg',\n",
              " 'COCO_val2014_000000146276.jpg',\n",
              " 'COCO_val2014_000000078871.jpg',\n",
              " 'COCO_val2014_000000431023.jpg',\n",
              " 'COCO_val2014_000000546987.jpg',\n",
              " 'COCO_val2014_000000028978.jpg',\n",
              " 'COCO_val2014_000000304917.jpg',\n",
              " 'COCO_val2014_000000215939.jpg',\n",
              " 'COCO_val2014_000000204871.jpg',\n",
              " 'COCO_val2014_000000502818.jpg',\n",
              " 'COCO_val2014_000000346788.jpg',\n",
              " 'COCO_val2014_000000430750.jpg',\n",
              " 'COCO_val2014_000000292170.jpg',\n",
              " 'COCO_val2014_000000106677.jpg',\n",
              " 'COCO_val2014_000000561014.jpg',\n",
              " 'COCO_val2014_000000536656.jpg',\n",
              " 'COCO_val2014_000000039963.jpg',\n",
              " 'COCO_val2014_000000000623.jpg',\n",
              " 'COCO_val2014_000000236010.jpg',\n",
              " 'COCO_val2014_000000425361.jpg',\n",
              " 'COCO_val2014_000000392632.jpg',\n",
              " 'COCO_val2014_000000173464.jpg',\n",
              " 'COCO_val2014_000000005599.jpg',\n",
              " 'COCO_val2014_000000175611.jpg',\n",
              " 'COCO_val2014_000000429690.jpg',\n",
              " 'COCO_val2014_000000574413.jpg',\n",
              " 'COCO_val2014_000000510755.jpg',\n",
              " 'COCO_val2014_000000431197.jpg',\n",
              " 'COCO_val2014_000000194216.jpg',\n",
              " 'COCO_val2014_000000132706.jpg',\n",
              " 'COCO_val2014_000000171500.jpg',\n",
              " 'COCO_val2014_000000199819.jpg',\n",
              " 'COCO_val2014_000000458932.jpg',\n",
              " 'COCO_val2014_000000114868.jpg',\n",
              " 'COCO_val2014_000000360328.jpg',\n",
              " 'COCO_val2014_000000264769.jpg',\n",
              " 'COCO_val2014_000000491336.jpg',\n",
              " 'COCO_val2014_000000334075.jpg',\n",
              " 'COCO_val2014_000000087718.jpg',\n",
              " 'COCO_val2014_000000124991.jpg',\n",
              " 'COCO_val2014_000000295837.jpg',\n",
              " 'COCO_val2014_000000581262.jpg',\n",
              " 'COCO_val2014_000000386514.jpg',\n",
              " 'COCO_val2014_000000334542.jpg',\n",
              " 'COCO_val2014_000000516026.jpg',\n",
              " 'COCO_val2014_000000071965.jpg',\n",
              " 'COCO_val2014_000000285160.jpg',\n",
              " 'COCO_val2014_000000502959.jpg',\n",
              " 'COCO_val2014_000000432724.jpg',\n",
              " 'COCO_val2014_000000318471.jpg',\n",
              " 'COCO_val2014_000000183500.jpg',\n",
              " 'COCO_val2014_000000032861.jpg',\n",
              " 'COCO_val2014_000000197609.jpg',\n",
              " 'COCO_val2014_000000056091.jpg',\n",
              " 'COCO_val2014_000000422916.jpg',\n",
              " 'COCO_val2014_000000348087.jpg',\n",
              " 'COCO_val2014_000000183965.jpg',\n",
              " 'COCO_val2014_000000408289.jpg',\n",
              " 'COCO_val2014_000000069842.jpg',\n",
              " 'COCO_val2014_000000210990.jpg',\n",
              " 'COCO_val2014_000000374352.jpg',\n",
              " 'COCO_val2014_000000278295.jpg',\n",
              " 'COCO_val2014_000000381608.jpg',\n",
              " 'COCO_val2014_000000039468.jpg',\n",
              " 'COCO_val2014_000000546556.jpg',\n",
              " 'COCO_val2014_000000422998.jpg',\n",
              " 'COCO_val2014_000000562885.jpg',\n",
              " 'COCO_val2014_000000434279.jpg',\n",
              " 'COCO_val2014_000000206705.jpg',\n",
              " 'COCO_val2014_000000122549.jpg',\n",
              " 'COCO_val2014_000000548296.jpg',\n",
              " 'COCO_val2014_000000046633.jpg',\n",
              " 'COCO_val2014_000000017966.jpg',\n",
              " 'COCO_val2014_000000288882.jpg',\n",
              " 'COCO_val2014_000000404388.jpg',\n",
              " 'COCO_val2014_000000401010.jpg',\n",
              " 'COCO_val2014_000000200267.jpg',\n",
              " 'COCO_val2014_000000271248.jpg',\n",
              " 'COCO_val2014_000000234676.jpg',\n",
              " 'COCO_val2014_000000354165.jpg',\n",
              " 'COCO_val2014_000000112582.jpg',\n",
              " 'COCO_val2014_000000110626.jpg',\n",
              " 'COCO_val2014_000000458755.jpg',\n",
              " 'COCO_val2014_000000570952.jpg',\n",
              " 'COCO_val2014_000000253216.jpg',\n",
              " 'COCO_val2014_000000295194.jpg',\n",
              " 'COCO_val2014_000000390068.jpg',\n",
              " 'COCO_val2014_000000131612.jpg',\n",
              " 'COCO_val2014_000000435208.jpg',\n",
              " 'COCO_val2014_000000118401.jpg',\n",
              " 'COCO_val2014_000000371652.jpg',\n",
              " 'COCO_val2014_000000537955.jpg',\n",
              " 'COCO_val2014_000000359589.jpg',\n",
              " 'COCO_val2014_000000069536.jpg',\n",
              " 'COCO_val2014_000000192594.jpg',\n",
              " 'COCO_val2014_000000115618.jpg',\n",
              " 'COCO_val2014_000000159944.jpg',\n",
              " 'COCO_val2014_000000277984.jpg',\n",
              " 'COCO_val2014_000000217285.jpg',\n",
              " 'COCO_val2014_000000558083.jpg',\n",
              " 'COCO_val2014_000000057222.jpg',\n",
              " 'COCO_val2014_000000196660.jpg',\n",
              " 'COCO_val2014_000000143767.jpg',\n",
              " 'COCO_val2014_000000044352.jpg',\n",
              " 'COCO_val2014_000000024247.jpg',\n",
              " 'COCO_val2014_000000352552.jpg',\n",
              " 'COCO_val2014_000000417374.jpg',\n",
              " 'COCO_val2014_000000147919.jpg',\n",
              " 'COCO_val2014_000000293071.jpg',\n",
              " 'COCO_val2014_000000030255.jpg',\n",
              " 'COCO_val2014_000000520489.jpg',\n",
              " 'COCO_val2014_000000272323.jpg',\n",
              " 'COCO_val2014_000000253810.jpg',\n",
              " 'COCO_val2014_000000113159.jpg',\n",
              " 'COCO_val2014_000000190497.jpg',\n",
              " 'COCO_val2014_000000269429.jpg',\n",
              " 'COCO_val2014_000000466263.jpg',\n",
              " 'COCO_val2014_000000025517.jpg',\n",
              " 'COCO_val2014_000000464682.jpg',\n",
              " 'COCO_val2014_000000132509.jpg',\n",
              " 'COCO_val2014_000000517306.jpg',\n",
              " 'COCO_val2014_000000154145.jpg',\n",
              " 'COCO_val2014_000000232503.jpg',\n",
              " 'COCO_val2014_000000252745.jpg',\n",
              " 'COCO_val2014_000000348877.jpg',\n",
              " 'COCO_val2014_000000171464.jpg',\n",
              " 'COCO_val2014_000000049667.jpg',\n",
              " 'COCO_val2014_000000264771.jpg',\n",
              " 'COCO_val2014_000000122997.jpg',\n",
              " 'COCO_val2014_000000332141.jpg',\n",
              " 'COCO_val2014_000000522198.jpg',\n",
              " 'COCO_val2014_000000350688.jpg',\n",
              " 'COCO_val2014_000000216417.jpg',\n",
              " 'COCO_val2014_000000385377.jpg',\n",
              " 'COCO_val2014_000000355826.jpg',\n",
              " 'COCO_val2014_000000128280.jpg',\n",
              " 'COCO_val2014_000000254965.jpg',\n",
              " 'COCO_val2014_000000570664.jpg',\n",
              " 'COCO_val2014_000000434467.jpg',\n",
              " 'COCO_val2014_000000295097.jpg',\n",
              " 'COCO_val2014_000000526804.jpg',\n",
              " 'COCO_val2014_000000146773.jpg',\n",
              " 'COCO_val2014_000000304330.jpg',\n",
              " 'COCO_val2014_000000245051.jpg',\n",
              " 'COCO_val2014_000000225299.jpg',\n",
              " 'COCO_val2014_000000507975.jpg',\n",
              " 'COCO_val2014_000000092658.jpg',\n",
              " 'COCO_val2014_000000243875.jpg',\n",
              " 'COCO_val2014_000000124832.jpg',\n",
              " 'COCO_val2014_000000448211.jpg',\n",
              " 'COCO_val2014_000000058079.jpg',\n",
              " 'COCO_val2014_000000563697.jpg',\n",
              " 'COCO_val2014_000000085353.jpg',\n",
              " 'COCO_val2014_000000137321.jpg',\n",
              " 'COCO_val2014_000000292082.jpg',\n",
              " 'COCO_val2014_000000261504.jpg',\n",
              " 'COCO_val2014_000000278988.jpg',\n",
              " 'COCO_val2014_000000117037.jpg',\n",
              " 'COCO_val2014_000000199492.jpg',\n",
              " 'COCO_val2014_000000006033.jpg',\n",
              " 'COCO_val2014_000000041247.jpg',\n",
              " 'COCO_val2014_000000344483.jpg',\n",
              " 'COCO_val2014_000000321035.jpg',\n",
              " 'COCO_val2014_000000370043.jpg',\n",
              " 'COCO_val2014_000000569249.jpg',\n",
              " 'COCO_val2014_000000447147.jpg',\n",
              " 'COCO_val2014_000000465715.jpg',\n",
              " 'COCO_val2014_000000472164.jpg',\n",
              " 'COCO_val2014_000000572825.jpg',\n",
              " 'COCO_val2014_000000480021.jpg',\n",
              " 'COCO_val2014_000000527029.jpg',\n",
              " 'COCO_val2014_000000249352.jpg',\n",
              " 'COCO_val2014_000000139472.jpg',\n",
              " 'COCO_val2014_000000077954.jpg',\n",
              " 'COCO_val2014_000000171241.jpg',\n",
              " 'COCO_val2014_000000074951.jpg',\n",
              " 'COCO_val2014_000000453166.jpg',\n",
              " 'COCO_val2014_000000166340.jpg',\n",
              " 'COCO_val2014_000000210857.jpg',\n",
              " 'COCO_val2014_000000292330.jpg',\n",
              " 'COCO_val2014_000000547062.jpg',\n",
              " 'COCO_val2014_000000136328.jpg',\n",
              " 'COCO_val2014_000000227709.jpg',\n",
              " 'COCO_val2014_000000046805.jpg',\n",
              " 'COCO_val2014_000000301155.jpg',\n",
              " 'COCO_val2014_000000152465.jpg',\n",
              " 'COCO_val2014_000000111789.jpg',\n",
              " 'COCO_val2014_000000136846.jpg',\n",
              " 'COCO_val2014_000000371529.jpg',\n",
              " 'COCO_val2014_000000268124.jpg',\n",
              " 'COCO_val2014_000000061566.jpg',\n",
              " 'COCO_val2014_000000288576.jpg',\n",
              " 'COCO_val2014_000000045099.jpg',\n",
              " 'COCO_val2014_000000345419.jpg',\n",
              " 'COCO_val2014_000000218476.jpg',\n",
              " 'COCO_val2014_000000152623.jpg',\n",
              " 'COCO_val2014_000000025685.jpg',\n",
              " 'COCO_val2014_000000263881.jpg',\n",
              " 'COCO_val2014_000000044165.jpg',\n",
              " 'COCO_val2014_000000206541.jpg',\n",
              " 'COCO_val2014_000000412247.jpg',\n",
              " 'COCO_val2014_000000036311.jpg',\n",
              " 'COCO_val2014_000000384901.jpg',\n",
              " 'COCO_val2014_000000171915.jpg',\n",
              " 'COCO_val2014_000000155319.jpg',\n",
              " 'COCO_val2014_000000279730.jpg',\n",
              " 'COCO_val2014_000000512511.jpg',\n",
              " 'COCO_val2014_000000388399.jpg',\n",
              " 'COCO_val2014_000000229631.jpg',\n",
              " 'COCO_val2014_000000146640.jpg',\n",
              " 'COCO_val2014_000000340559.jpg',\n",
              " 'COCO_val2014_000000387431.jpg',\n",
              " 'COCO_val2014_000000510169.jpg',\n",
              " 'COCO_val2014_000000155671.jpg',\n",
              " 'COCO_val2014_000000153344.jpg',\n",
              " 'COCO_val2014_000000415949.jpg',\n",
              " 'COCO_val2014_000000406093.jpg',\n",
              " 'COCO_val2014_000000002255.jpg',\n",
              " 'COCO_val2014_000000547457.jpg',\n",
              " 'COCO_val2014_000000407861.jpg',\n",
              " 'COCO_val2014_000000064868.jpg',\n",
              " 'COCO_val2014_000000462527.jpg',\n",
              " 'COCO_val2014_000000199578.jpg',\n",
              " 'COCO_val2014_000000267164.jpg',\n",
              " 'COCO_val2014_000000208560.jpg',\n",
              " 'COCO_val2014_000000283928.jpg',\n",
              " 'COCO_val2014_000000492366.jpg',\n",
              " 'COCO_val2014_000000439897.jpg',\n",
              " 'COCO_val2014_000000494141.jpg',\n",
              " 'COCO_val2014_000000514982.jpg',\n",
              " 'COCO_val2014_000000166205.jpg',\n",
              " 'COCO_val2014_000000098283.jpg',\n",
              " 'COCO_val2014_000000198464.jpg',\n",
              " 'COCO_val2014_000000433204.jpg',\n",
              " 'COCO_val2014_000000129864.jpg',\n",
              " 'COCO_val2014_000000401820.jpg',\n",
              " 'COCO_val2014_000000416746.jpg',\n",
              " 'COCO_val2014_000000353027.jpg',\n",
              " 'COCO_val2014_000000195079.jpg',\n",
              " 'COCO_val2014_000000094944.jpg',\n",
              " 'COCO_val2014_000000307262.jpg',\n",
              " 'COCO_val2014_000000470832.jpg',\n",
              " 'COCO_val2014_000000474868.jpg',\n",
              " 'COCO_val2014_000000179793.jpg',\n",
              " 'COCO_val2014_000000539238.jpg',\n",
              " 'COCO_val2014_000000502737.jpg',\n",
              " 'COCO_val2014_000000199771.jpg',\n",
              " 'COCO_val2014_000000240501.jpg',\n",
              " 'COCO_val2014_000000578861.jpg',\n",
              " 'COCO_val2014_000000458572.jpg',\n",
              " 'COCO_val2014_000000085913.jpg',\n",
              " 'COCO_val2014_000000539089.jpg',\n",
              " 'COCO_val2014_000000477940.jpg',\n",
              " 'COCO_val2014_000000471450.jpg',\n",
              " 'COCO_val2014_000000029358.jpg',\n",
              " 'COCO_val2014_000000284354.jpg',\n",
              " 'COCO_val2014_000000050100.jpg',\n",
              " 'COCO_val2014_000000152202.jpg',\n",
              " 'COCO_val2014_000000386821.jpg',\n",
              " 'COCO_val2014_000000552775.jpg',\n",
              " 'COCO_val2014_000000166805.jpg',\n",
              " 'COCO_val2014_000000145208.jpg',\n",
              " 'COCO_val2014_000000294264.jpg',\n",
              " 'COCO_val2014_000000410272.jpg',\n",
              " 'COCO_val2014_000000399178.jpg',\n",
              " 'COCO_val2014_000000089557.jpg',\n",
              " 'COCO_val2014_000000117701.jpg',\n",
              " 'COCO_val2014_000000519649.jpg',\n",
              " 'COCO_val2014_000000151938.jpg',\n",
              " 'COCO_val2014_000000454607.jpg',\n",
              " 'COCO_val2014_000000534554.jpg',\n",
              " 'COCO_val2014_000000280612.jpg',\n",
              " 'COCO_val2014_000000134160.jpg',\n",
              " 'COCO_val2014_000000388267.jpg',\n",
              " 'COCO_val2014_000000188906.jpg',\n",
              " 'COCO_val2014_000000018896.jpg',\n",
              " 'COCO_val2014_000000475159.jpg',\n",
              " 'COCO_val2014_000000255096.jpg',\n",
              " 'COCO_val2014_000000180541.jpg',\n",
              " 'COCO_val2014_000000495156.jpg',\n",
              " 'COCO_val2014_000000494077.jpg',\n",
              " 'COCO_val2014_000000126260.jpg',\n",
              " 'COCO_val2014_000000112517.jpg',\n",
              " 'COCO_val2014_000000228854.jpg',\n",
              " 'COCO_val2014_000000376531.jpg',\n",
              " 'COCO_val2014_000000244737.jpg',\n",
              " 'COCO_val2014_000000531036.jpg',\n",
              " 'COCO_val2014_000000424683.jpg',\n",
              " 'COCO_val2014_000000013980.jpg',\n",
              " 'COCO_val2014_000000242724.jpg',\n",
              " 'COCO_val2014_000000520433.jpg',\n",
              " 'COCO_val2014_000000213799.jpg',\n",
              " 'COCO_val2014_000000292324.jpg',\n",
              " 'COCO_val2014_000000170181.jpg',\n",
              " 'COCO_val2014_000000254807.jpg',\n",
              " 'COCO_val2014_000000148792.jpg',\n",
              " 'COCO_val2014_000000455610.jpg',\n",
              " 'COCO_val2014_000000176288.jpg',\n",
              " 'COCO_val2014_000000377620.jpg',\n",
              " 'COCO_val2014_000000198251.jpg',\n",
              " 'COCO_val2014_000000168781.jpg',\n",
              " 'COCO_val2014_000000396779.jpg',\n",
              " 'COCO_val2014_000000281601.jpg',\n",
              " 'COCO_val2014_000000094326.jpg',\n",
              " 'COCO_val2014_000000508418.jpg',\n",
              " 'COCO_val2014_000000013789.jpg',\n",
              " 'COCO_val2014_000000230247.jpg',\n",
              " 'COCO_val2014_000000239992.jpg',\n",
              " 'COCO_val2014_000000001296.jpg',\n",
              " 'COCO_val2014_000000232315.jpg',\n",
              " 'COCO_val2014_000000513778.jpg',\n",
              " 'COCO_val2014_000000274549.jpg',\n",
              " 'COCO_val2014_000000054355.jpg',\n",
              " 'COCO_val2014_000000145831.jpg',\n",
              " 'COCO_val2014_000000203317.jpg',\n",
              " 'COCO_val2014_000000204186.jpg',\n",
              " 'COCO_val2014_000000426101.jpg',\n",
              " 'COCO_val2014_000000400202.jpg',\n",
              " 'COCO_val2014_000000179690.jpg',\n",
              " 'COCO_val2014_000000293244.jpg',\n",
              " 'COCO_val2014_000000470513.jpg',\n",
              " 'COCO_val2014_000000287484.jpg',\n",
              " 'COCO_val2014_000000349152.jpg',\n",
              " 'COCO_val2014_000000335450.jpg',\n",
              " 'COCO_val2014_000000137271.jpg',\n",
              " 'COCO_val2014_000000239064.jpg',\n",
              " 'COCO_val2014_000000110282.jpg',\n",
              " 'COCO_val2014_000000166505.jpg',\n",
              " 'COCO_val2014_000000465878.jpg',\n",
              " 'COCO_val2014_000000521550.jpg',\n",
              " 'COCO_val2014_000000123125.jpg',\n",
              " 'COCO_val2014_000000573932.jpg',\n",
              " 'COCO_val2014_000000541550.jpg',\n",
              " 'COCO_val2014_000000294307.jpg',\n",
              " 'COCO_val2014_000000228025.jpg',\n",
              " 'COCO_val2014_000000097006.jpg',\n",
              " 'COCO_val2014_000000110759.jpg',\n",
              " 'COCO_val2014_000000335539.jpg',\n",
              " 'COCO_val2014_000000084664.jpg',\n",
              " 'COCO_val2014_000000318813.jpg',\n",
              " 'COCO_val2014_000000531852.jpg',\n",
              " 'COCO_val2014_000000436511.jpg',\n",
              " 'COCO_val2014_000000459809.jpg',\n",
              " 'COCO_val2014_000000309452.jpg',\n",
              " 'COCO_val2014_000000575633.jpg',\n",
              " 'COCO_val2014_000000349430.jpg',\n",
              " 'COCO_val2014_000000318187.jpg',\n",
              " 'COCO_val2014_000000170311.jpg',\n",
              " 'COCO_val2014_000000305695.jpg',\n",
              " 'COCO_val2014_000000487375.jpg',\n",
              " 'COCO_val2014_000000068204.jpg',\n",
              " 'COCO_val2014_000000312720.jpg',\n",
              " 'COCO_val2014_000000157876.jpg',\n",
              " 'COCO_val2014_000000569274.jpg',\n",
              " 'COCO_val2014_000000064059.jpg',\n",
              " 'COCO_val2014_000000184369.jpg',\n",
              " 'COCO_val2014_000000102996.jpg',\n",
              " 'COCO_val2014_000000428452.jpg',\n",
              " 'COCO_val2014_000000374218.jpg',\n",
              " 'COCO_val2014_000000285314.jpg',\n",
              " 'COCO_val2014_000000195754.jpg',\n",
              " 'COCO_val2014_000000181237.jpg',\n",
              " 'COCO_val2014_000000527002.jpg',\n",
              " 'COCO_val2014_000000399297.jpg',\n",
              " 'COCO_val2014_000000340508.jpg',\n",
              " 'COCO_val2014_000000182423.jpg',\n",
              " 'COCO_val2014_000000505243.jpg',\n",
              " 'COCO_val2014_000000139660.jpg',\n",
              " 'COCO_val2014_000000515050.jpg',\n",
              " 'COCO_val2014_000000350607.jpg',\n",
              " 'COCO_val2014_000000213008.jpg',\n",
              " 'COCO_val2014_000000274538.jpg',\n",
              " 'COCO_val2014_000000089503.jpg',\n",
              " 'COCO_val2014_000000467522.jpg',\n",
              " 'COCO_val2014_000000552217.jpg',\n",
              " 'COCO_val2014_000000436551.jpg',\n",
              " 'COCO_val2014_000000560474.jpg',\n",
              " 'COCO_val2014_000000123946.jpg',\n",
              " 'COCO_val2014_000000248242.jpg',\n",
              " 'COCO_val2014_000000556980.jpg',\n",
              " 'COCO_val2014_000000160220.jpg',\n",
              " 'COCO_val2014_000000033243.jpg',\n",
              " 'COCO_val2014_000000419867.jpg',\n",
              " 'COCO_val2014_000000552573.jpg',\n",
              " 'COCO_val2014_000000502813.jpg',\n",
              " 'COCO_val2014_000000256722.jpg',\n",
              " 'COCO_val2014_000000406070.jpg',\n",
              " 'COCO_val2014_000000001993.jpg',\n",
              " 'COCO_val2014_000000122962.jpg',\n",
              " 'COCO_val2014_000000404088.jpg',\n",
              " 'COCO_val2014_000000419884.jpg',\n",
              " 'COCO_val2014_000000070190.jpg',\n",
              " 'COCO_val2014_000000195685.jpg',\n",
              " 'COCO_val2014_000000191381.jpg',\n",
              " 'COCO_val2014_000000456261.jpg',\n",
              " 'COCO_val2014_000000192809.jpg',\n",
              " 'COCO_val2014_000000162459.jpg',\n",
              " 'COCO_val2014_000000378614.jpg',\n",
              " 'COCO_val2014_000000309836.jpg',\n",
              " 'COCO_val2014_000000260257.jpg',\n",
              " 'COCO_val2014_000000263793.jpg',\n",
              " 'COCO_val2014_000000095561.jpg',\n",
              " 'COCO_val2014_000000202880.jpg',\n",
              " 'COCO_val2014_000000412676.jpg',\n",
              " 'COCO_val2014_000000399790.jpg',\n",
              " 'COCO_val2014_000000238799.jpg',\n",
              " 'COCO_val2014_000000215579.jpg',\n",
              " 'COCO_val2014_000000299001.jpg',\n",
              " 'COCO_val2014_000000531602.jpg',\n",
              " 'COCO_val2014_000000293888.jpg',\n",
              " 'COCO_val2014_000000172658.jpg',\n",
              " 'COCO_val2014_000000266437.jpg',\n",
              " 'COCO_val2014_000000515779.jpg',\n",
              " 'COCO_val2014_000000564098.jpg',\n",
              " 'COCO_val2014_000000188768.jpg',\n",
              " 'COCO_val2014_000000284028.jpg',\n",
              " 'COCO_val2014_000000323067.jpg',\n",
              " 'COCO_val2014_000000022589.jpg',\n",
              " 'COCO_val2014_000000484627.jpg',\n",
              " 'COCO_val2014_000000387369.jpg',\n",
              " 'COCO_val2014_000000023899.jpg',\n",
              " 'COCO_val2014_000000429761.jpg',\n",
              " 'COCO_val2014_000000409403.jpg',\n",
              " 'COCO_val2014_000000574415.jpg',\n",
              " 'COCO_val2014_000000312213.jpg',\n",
              " 'COCO_val2014_000000112586.jpg',\n",
              " 'COCO_val2014_000000312591.jpg',\n",
              " 'COCO_val2014_000000304689.jpg',\n",
              " 'COCO_val2014_000000196313.jpg',\n",
              " 'COCO_val2014_000000332775.jpg',\n",
              " 'COCO_val2014_000000384995.jpg',\n",
              " 'COCO_val2014_000000195204.jpg',\n",
              " 'COCO_val2014_000000138954.jpg',\n",
              " 'COCO_val2014_000000241453.jpg',\n",
              " 'COCO_val2014_000000188852.jpg',\n",
              " 'COCO_val2014_000000296997.jpg',\n",
              " 'COCO_val2014_000000398758.jpg',\n",
              " 'COCO_val2014_000000007320.jpg',\n",
              " 'COCO_val2014_000000491497.jpg',\n",
              " 'COCO_val2014_000000011197.jpg',\n",
              " 'COCO_val2014_000000509260.jpg',\n",
              " 'COCO_val2014_000000168775.jpg',\n",
              " 'COCO_val2014_000000484151.jpg',\n",
              " 'COCO_val2014_000000531967.jpg',\n",
              " 'COCO_val2014_000000231644.jpg',\n",
              " 'COCO_val2014_000000183895.jpg',\n",
              " 'COCO_val2014_000000470121.jpg',\n",
              " 'COCO_val2014_000000463134.jpg',\n",
              " 'COCO_val2014_000000130527.jpg',\n",
              " 'COCO_val2014_000000181499.jpg',\n",
              " 'COCO_val2014_000000002529.jpg',\n",
              " 'COCO_val2014_000000453310.jpg',\n",
              " 'COCO_val2014_000000136501.jpg',\n",
              " 'COCO_val2014_000000068745.jpg',\n",
              " 'COCO_val2014_000000188308.jpg',\n",
              " 'COCO_val2014_000000213829.jpg',\n",
              " 'COCO_val2014_000000108189.jpg',\n",
              " 'COCO_val2014_000000077615.jpg',\n",
              " 'COCO_val2014_000000196706.jpg',\n",
              " 'COCO_val2014_000000297244.jpg',\n",
              " 'COCO_val2014_000000368349.jpg',\n",
              " 'COCO_val2014_000000448958.jpg',\n",
              " 'COCO_val2014_000000338256.jpg',\n",
              " 'COCO_val2014_000000104796.jpg',\n",
              " 'COCO_val2014_000000566608.jpg',\n",
              " 'COCO_val2014_000000241638.jpg',\n",
              " 'COCO_val2014_000000445439.jpg',\n",
              " 'COCO_val2014_000000461681.jpg',\n",
              " 'COCO_val2014_000000106351.jpg',\n",
              " 'COCO_val2014_000000366225.jpg',\n",
              " 'COCO_val2014_000000514402.jpg',\n",
              " 'COCO_val2014_000000155897.jpg',\n",
              " 'COCO_val2014_000000257236.jpg',\n",
              " 'COCO_val2014_000000555271.jpg',\n",
              " 'COCO_val2014_000000209682.jpg',\n",
              " 'COCO_val2014_000000389974.jpg',\n",
              " 'COCO_val2014_000000307263.jpg',\n",
              " 'COCO_val2014_000000384553.jpg',\n",
              " 'COCO_val2014_000000540180.jpg',\n",
              " 'COCO_val2014_000000383053.jpg',\n",
              " 'COCO_val2014_000000365928.jpg',\n",
              " 'COCO_val2014_000000572499.jpg',\n",
              " 'COCO_val2014_000000536683.jpg',\n",
              " 'COCO_val2014_000000569415.jpg',\n",
              " 'COCO_val2014_000000408101.jpg',\n",
              " 'COCO_val2014_000000265243.jpg',\n",
              " 'COCO_val2014_000000367608.jpg',\n",
              " 'COCO_val2014_000000032285.jpg',\n",
              " 'COCO_val2014_000000554377.jpg',\n",
              " 'COCO_val2014_000000142249.jpg',\n",
              " 'COCO_val2014_000000352480.jpg',\n",
              " 'COCO_val2014_000000009647.jpg',\n",
              " 'COCO_val2014_000000517617.jpg',\n",
              " 'COCO_val2014_000000020481.jpg',\n",
              " 'COCO_val2014_000000434886.jpg',\n",
              " 'COCO_val2014_000000141770.jpg',\n",
              " 'COCO_val2014_000000170267.jpg',\n",
              " 'COCO_val2014_000000013948.jpg',\n",
              " 'COCO_val2014_000000422836.jpg',\n",
              " 'COCO_val2014_000000540806.jpg',\n",
              " 'COCO_val2014_000000426546.jpg',\n",
              " 'COCO_val2014_000000229001.jpg',\n",
              " 'COCO_val2014_000000324051.jpg',\n",
              " 'COCO_val2014_000000391915.jpg',\n",
              " 'COCO_val2014_000000211837.jpg',\n",
              " 'COCO_val2014_000000424927.jpg',\n",
              " 'COCO_val2014_000000129339.jpg',\n",
              " 'COCO_val2014_000000031817.jpg',\n",
              " 'COCO_val2014_000000034205.jpg',\n",
              " 'COCO_val2014_000000195042.jpg',\n",
              " 'COCO_val2014_000000309528.jpg',\n",
              " 'COCO_val2014_000000050942.jpg',\n",
              " 'COCO_val2014_000000230983.jpg',\n",
              " 'COCO_val2014_000000219487.jpg',\n",
              " 'COCO_val2014_000000401613.jpg',\n",
              " 'COCO_val2014_000000507945.jpg',\n",
              " 'COCO_val2014_000000027017.jpg',\n",
              " 'COCO_val2014_000000343534.jpg',\n",
              " 'COCO_val2014_000000216944.jpg',\n",
              " 'COCO_val2014_000000152870.jpg',\n",
              " 'COCO_val2014_000000023879.jpg',\n",
              " 'COCO_val2014_000000003690.jpg',\n",
              " 'COCO_val2014_000000152211.jpg',\n",
              " 'COCO_val2014_000000193122.jpg',\n",
              " 'COCO_val2014_000000521509.jpg',\n",
              " 'COCO_val2014_000000244823.jpg',\n",
              " 'COCO_val2014_000000230212.jpg',\n",
              " 'COCO_val2014_000000283261.jpg',\n",
              " 'COCO_val2014_000000038572.jpg',\n",
              " 'COCO_val2014_000000527535.jpg',\n",
              " 'COCO_val2014_000000215072.jpg',\n",
              " 'COCO_val2014_000000152618.jpg',\n",
              " 'COCO_val2014_000000404655.jpg',\n",
              " 'COCO_val2014_000000007050.jpg',\n",
              " 'COCO_val2014_000000450581.jpg',\n",
              " 'COCO_val2014_000000297374.jpg',\n",
              " 'COCO_val2014_000000260036.jpg',\n",
              " 'COCO_val2014_000000090738.jpg',\n",
              " 'COCO_val2014_000000397309.jpg',\n",
              " 'COCO_val2014_000000078979.jpg',\n",
              " 'COCO_val2014_000000332351.jpg',\n",
              " 'COCO_val2014_000000118615.jpg',\n",
              " 'COCO_val2014_000000043670.jpg',\n",
              " 'COCO_val2014_000000198658.jpg',\n",
              " 'COCO_val2014_000000210408.jpg',\n",
              " 'COCO_val2014_000000118802.jpg',\n",
              " 'COCO_val2014_000000438539.jpg',\n",
              " 'COCO_val2014_000000042568.jpg',\n",
              " 'COCO_val2014_000000258331.jpg',\n",
              " 'COCO_val2014_000000209604.jpg',\n",
              " 'COCO_val2014_000000143458.jpg',\n",
              " 'COCO_val2014_000000082696.jpg',\n",
              " 'COCO_val2014_000000120860.jpg',\n",
              " 'COCO_val2014_000000470364.jpg',\n",
              " 'COCO_val2014_000000360480.jpg',\n",
              " 'COCO_val2014_000000562328.jpg',\n",
              " 'COCO_val2014_000000024869.jpg',\n",
              " 'COCO_val2014_000000467467.jpg',\n",
              " 'COCO_val2014_000000362306.jpg',\n",
              " 'COCO_val2014_000000071699.jpg',\n",
              " 'COCO_val2014_000000266082.jpg',\n",
              " 'COCO_val2014_000000150224.jpg',\n",
              " 'COCO_val2014_000000432332.jpg',\n",
              " 'COCO_val2014_000000187887.jpg',\n",
              " 'COCO_val2014_000000227879.jpg',\n",
              " 'COCO_val2014_000000370233.jpg',\n",
              " 'COCO_val2014_000000530509.jpg',\n",
              " 'COCO_val2014_000000064599.jpg',\n",
              " 'COCO_val2014_000000356877.jpg',\n",
              " 'COCO_val2014_000000254237.jpg',\n",
              " 'COCO_val2014_000000561780.jpg',\n",
              " 'COCO_val2014_000000338220.jpg',\n",
              " 'COCO_val2014_000000024396.jpg',\n",
              " 'COCO_val2014_000000312951.jpg',\n",
              " 'COCO_val2014_000000202187.jpg',\n",
              " 'COCO_val2014_000000178618.jpg',\n",
              " 'COCO_val2014_000000570755.jpg',\n",
              " 'COCO_val2014_000000036661.jpg',\n",
              " 'COCO_val2014_000000564133.jpg',\n",
              " 'COCO_val2014_000000475887.jpg',\n",
              " 'COCO_val2014_000000301397.jpg',\n",
              " 'COCO_val2014_000000068205.jpg',\n",
              " 'COCO_val2014_000000365511.jpg',\n",
              " 'COCO_val2014_000000534428.jpg',\n",
              " 'COCO_val2014_000000107481.jpg',\n",
              " 'COCO_val2014_000000229111.jpg',\n",
              " 'COCO_val2014_000000132992.jpg',\n",
              " 'COCO_val2014_000000004338.jpg',\n",
              " 'COCO_val2014_000000185686.jpg',\n",
              " 'COCO_val2014_000000469492.jpg',\n",
              " 'COCO_val2014_000000265066.jpg',\n",
              " 'COCO_val2014_000000497626.jpg',\n",
              " 'COCO_val2014_000000385222.jpg',\n",
              " 'COCO_val2014_000000574392.jpg',\n",
              " 'COCO_val2014_000000231508.jpg',\n",
              " 'COCO_val2014_000000029170.jpg',\n",
              " 'COCO_val2014_000000218365.jpg',\n",
              " 'COCO_val2014_000000519683.jpg',\n",
              " 'COCO_val2014_000000494608.jpg',\n",
              " 'COCO_val2014_000000085478.jpg',\n",
              " 'COCO_val2014_000000194411.jpg',\n",
              " 'COCO_val2014_000000006614.jpg',\n",
              " 'COCO_val2014_000000106920.jpg',\n",
              " 'COCO_val2014_000000431832.jpg',\n",
              " 'COCO_val2014_000000456053.jpg',\n",
              " 'COCO_val2014_000000576461.jpg',\n",
              " 'COCO_val2014_000000561901.jpg',\n",
              " 'COCO_val2014_000000201561.jpg',\n",
              " 'COCO_val2014_000000298362.jpg',\n",
              " 'COCO_val2014_000000323925.jpg',\n",
              " 'COCO_val2014_000000283520.jpg',\n",
              " 'COCO_val2014_000000174898.jpg',\n",
              " 'COCO_val2014_000000310177.jpg',\n",
              " 'COCO_val2014_000000138656.jpg',\n",
              " 'COCO_val2014_000000078312.jpg',\n",
              " 'COCO_val2014_000000183364.jpg',\n",
              " 'COCO_val2014_000000494869.jpg',\n",
              " 'COCO_val2014_000000283412.jpg',\n",
              " 'COCO_val2014_000000387470.jpg',\n",
              " 'COCO_val2014_000000569767.jpg',\n",
              " 'COCO_val2014_000000509014.jpg',\n",
              " 'COCO_val2014_000000562834.jpg',\n",
              " 'COCO_val2014_000000217710.jpg',\n",
              " 'COCO_val2014_000000208543.jpg',\n",
              " 'COCO_val2014_000000068650.jpg',\n",
              " 'COCO_val2014_000000526904.jpg',\n",
              " 'COCO_val2014_000000383676.jpg',\n",
              " 'COCO_val2014_000000042201.jpg',\n",
              " 'COCO_val2014_000000363319.jpg',\n",
              " 'COCO_val2014_000000020247.jpg',\n",
              " 'COCO_val2014_000000144985.jpg',\n",
              " 'COCO_val2014_000000094162.jpg',\n",
              " 'COCO_val2014_000000501531.jpg',\n",
              " 'COCO_val2014_000000097131.jpg',\n",
              " 'COCO_val2014_000000193720.jpg',\n",
              " 'COCO_val2014_000000182424.jpg',\n",
              " 'COCO_val2014_000000475387.jpg',\n",
              " 'COCO_val2014_000000176828.jpg',\n",
              " 'COCO_val2014_000000312078.jpg',\n",
              " 'COCO_val2014_000000396274.jpg',\n",
              " 'COCO_val2014_000000098721.jpg',\n",
              " 'COCO_val2014_000000125211.jpg',\n",
              " 'COCO_val2014_000000342869.jpg',\n",
              " 'COCO_val2014_000000133876.jpg',\n",
              " 'COCO_val2014_000000189427.jpg',\n",
              " 'COCO_val2014_000000426268.jpg',\n",
              " 'Copy of COCO_val2014_000000000139.jpg',\n",
              " 'Copy of COCO_val2014_000000000143.jpg',\n",
              " 'Copy of COCO_val2014_000000000073.jpg',\n",
              " 'Copy of COCO_val2014_000000000164.jpg',\n",
              " 'Copy of COCO_val2014_000000000196.jpg',\n",
              " 'Copy of COCO_val2014_000000000257.jpg',\n",
              " 'Copy of COCO_val2014_000000000208.jpg',\n",
              " ...]"
            ]
          },
          "metadata": {
            "tags": []
          },
          "execution_count": 7
        }
      ]
    },
    {
      "cell_type": "markdown",
      "metadata": {
        "id": "-kwRMvSt7Xks"
      },
      "source": [
        "The caption for each file should be loaded. train=False implies validation set"
      ]
    },
    {
      "cell_type": "code",
      "metadata": {
        "id": "a0OpXKikIX5r",
        "outputId": "99fadc07-bb3c-4ac9-c100-e1655b64da2e",
        "colab": {
          "base_uri": "https://localhost:8080/",
          "height": 34
        }
      },
      "source": [
        "_,filename_train,caption_train=load_records(train=False)"
      ],
      "execution_count": 5,
      "outputs": [
        {
          "output_type": "stream",
          "text": [
            "- Data loaded from cache-file: /content/gdrive/My Drive/coco/records_val.pkl\n"
          ],
          "name": "stdout"
        }
      ]
    },
    {
      "cell_type": "code",
      "metadata": {
        "id": "STiPBe0BIamH"
      },
      "source": [
        "from PIL import Image\n",
        "import numpy as np\n",
        "import os\n",
        "import matplotlib.pyplot as plt\n",
        "from tensorflow import keras\n",
        "from tensorflow.keras.preprocessing.sequence import pad_sequences"
      ],
      "execution_count": 6,
      "outputs": []
    },
    {
      "cell_type": "markdown",
      "metadata": {
        "id": "1GMUITOgEfZm"
      },
      "source": [
        "Loading the preprocessed images by the VGG16 model.This is a compute heavy process, so it was done separately to avoid colab timeouts and saved as a .pickle file"
      ]
    },
    {
      "cell_type": "code",
      "metadata": {
        "id": "gL4D_wiPIckG",
        "outputId": "e4ad8534-a777-4dca-ab3c-706c6042e6a7",
        "colab": {
          "base_uri": "https://localhost:8080/",
          "height": 34
        }
      },
      "source": [
        "with open(os.path.join(data_dir, \"transfer_values_vayya1.pickle\"), mode='rb') as file:\n",
        "            transfer_values_val = pickle.load(file)\n",
        "transfer_values_val.shape"
      ],
      "execution_count": 7,
      "outputs": [
        {
          "output_type": "execute_result",
          "data": {
            "text/plain": [
              "(15739, 4096)"
            ]
          },
          "metadata": {
            "tags": []
          },
          "execution_count": 7
        }
      ]
    },
    {
      "cell_type": "markdown",
      "metadata": {
        "id": "Sk65PgrDEml4"
      },
      "source": [
        "loading the captions and tokenizer files\n",
        "The tokenizer should be saved after initial execution and loaded from drive for further tuning to avoid change in indexes of words\n",
        "\n"
      ]
    },
    {
      "cell_type": "code",
      "metadata": {
        "id": "S9MSSdSqIw2J"
      },
      "source": [
        "with open(os.path.join(data_dir, \"caption_sos.pickle\"), mode='rb') as file:\n",
        "            captions = pickle.load(file)\n",
        "with open(os.path.join(data_dir, \"tokenizer.pickle\"), mode='rb') as file:\n",
        "            tokeniser = pickle.load(file)"
      ],
      "execution_count": 8,
      "outputs": []
    },
    {
      "cell_type": "markdown",
      "metadata": {
        "id": "M39Srtl88UVy"
      },
      "source": [
        "one of my failed attempts"
      ]
    },
    {
      "cell_type": "code",
      "metadata": {
        "id": "Y4LIaGApIqBy",
        "outputId": "b6b36eb2-b316-4741-be4f-4e9bdf2020bf",
        "colab": {
          "base_uri": "https://localhost:8080/",
          "height": 238
        }
      },
      "source": [
        "caption_final=[]\n",
        "temp=[]\n",
        "count=0\n",
        "for ele in name:\n",
        "  index = filename_train.index(ele)\n",
        "  temp.append('sos ' + caption_train[index][0] + ' eos')\n",
        "  if count == 348:\n",
        "    caption_final.append(temp)\n",
        "    count = 0\n",
        "    temp = []\n",
        "  else:\n",
        "    count+=1\n",
        "if count != 0:\n",
        "  caption_final.append(temp)\n",
        "  index = filename_train.index(ele)\n",
        "  caption_final.append('sos ' + caption_train[index][0] + ' eos')"
      ],
      "execution_count": null,
      "outputs": [
        {
          "output_type": "error",
          "ename": "ValueError",
          "evalue": "ignored",
          "traceback": [
            "\u001b[0;31m---------------------------------------------------------------------------\u001b[0m",
            "\u001b[0;31mValueError\u001b[0m                                Traceback (most recent call last)",
            "\u001b[0;32m<ipython-input-162-cd596c8ed4e4>\u001b[0m in \u001b[0;36m<module>\u001b[0;34m()\u001b[0m\n\u001b[1;32m      3\u001b[0m \u001b[0mcount\u001b[0m\u001b[0;34m=\u001b[0m\u001b[0;36m0\u001b[0m\u001b[0;34m\u001b[0m\u001b[0;34m\u001b[0m\u001b[0m\n\u001b[1;32m      4\u001b[0m \u001b[0;32mfor\u001b[0m \u001b[0mele\u001b[0m \u001b[0;32min\u001b[0m \u001b[0mname\u001b[0m\u001b[0;34m:\u001b[0m\u001b[0;34m\u001b[0m\u001b[0;34m\u001b[0m\u001b[0m\n\u001b[0;32m----> 5\u001b[0;31m   \u001b[0mindex\u001b[0m \u001b[0;34m=\u001b[0m \u001b[0mfilename_train\u001b[0m\u001b[0;34m.\u001b[0m\u001b[0mindex\u001b[0m\u001b[0;34m(\u001b[0m\u001b[0mele\u001b[0m\u001b[0;34m)\u001b[0m\u001b[0;34m\u001b[0m\u001b[0;34m\u001b[0m\u001b[0m\n\u001b[0m\u001b[1;32m      6\u001b[0m   \u001b[0mtemp\u001b[0m\u001b[0;34m.\u001b[0m\u001b[0mappend\u001b[0m\u001b[0;34m(\u001b[0m\u001b[0;34m'sos '\u001b[0m \u001b[0;34m+\u001b[0m \u001b[0mcaption_train\u001b[0m\u001b[0;34m[\u001b[0m\u001b[0mindex\u001b[0m\u001b[0;34m]\u001b[0m\u001b[0;34m[\u001b[0m\u001b[0;36m0\u001b[0m\u001b[0;34m]\u001b[0m \u001b[0;34m+\u001b[0m \u001b[0;34m' eos'\u001b[0m\u001b[0;34m)\u001b[0m\u001b[0;34m\u001b[0m\u001b[0;34m\u001b[0m\u001b[0m\n\u001b[1;32m      7\u001b[0m   \u001b[0;32mif\u001b[0m \u001b[0mcount\u001b[0m \u001b[0;34m==\u001b[0m \u001b[0;36m348\u001b[0m\u001b[0;34m:\u001b[0m\u001b[0;34m\u001b[0m\u001b[0;34m\u001b[0m\u001b[0m\n",
            "\u001b[0;31mValueError\u001b[0m: tuple.index(x): x not in tuple"
          ]
        }
      ]
    },
    {
      "cell_type": "markdown",
      "metadata": {
        "id": "lgZxPYWC8a-T"
      },
      "source": [
        "the input captions should be formatted. each image has more than one captions. out of that we have to select one. after that to each of the captions of an image, 'sos' and 'eos' should be added to the beginning and end respectively"
      ]
    },
    {
      "cell_type": "code",
      "metadata": {
        "id": "5xiu_BI_Voe9"
      },
      "source": [
        "caption_final=[]\n",
        "for i,ele in enumerate(name):\n",
        "   if ele not in filename_train:\n",
        "     transfer_values_val=np.delete(transfer_values_val,i,axis=0)\n",
        "     continue\n",
        "   index = filename_train.index(ele)\n",
        "   caption_final.append('sos ' + caption_train[index][0] + ' eos')"
      ],
      "execution_count": 9,
      "outputs": []
    },
    {
      "cell_type": "code",
      "metadata": {
        "id": "tpRwV8XrPCV_",
        "outputId": "b46fec7e-20ca-4782-daed-b43a29edef77",
        "colab": {
          "base_uri": "https://localhost:8080/",
          "height": 34
        }
      },
      "source": [
        "transfer_values_val.shape"
      ],
      "execution_count": 10,
      "outputs": [
        {
          "output_type": "execute_result",
          "data": {
            "text/plain": [
              "(15732, 4096)"
            ]
          },
          "metadata": {
            "tags": []
          },
          "execution_count": 10
        }
      ]
    },
    {
      "cell_type": "markdown",
      "metadata": {
        "id": "h0lNPpAH89Xo"
      },
      "source": [
        "one type of tuning performed but unsuccesful"
      ]
    },
    {
      "cell_type": "code",
      "metadata": {
        "id": "gy1p7Hu1jqn8"
      },
      "source": [
        "maxi=0\n",
        "for ele in transfer_values_val:\n",
        "  maxi=max(maxi,max(ele))"
      ],
      "execution_count": null,
      "outputs": []
    },
    {
      "cell_type": "code",
      "metadata": {
        "id": "xqZf5wMkkQuM",
        "outputId": "22cbbfa0-e9c2-4cc5-91ee-450e37792b31",
        "colab": {
          "base_uri": "https://localhost:8080/",
          "height": 52
        }
      },
      "source": [
        "transfer_values_val[0]"
      ],
      "execution_count": 11,
      "outputs": [
        {
          "output_type": "execute_result",
          "data": {
            "text/plain": [
              "array([0.04767, 0.511  , 1.859  , ..., 0.     , 0.     , 0.3403 ],\n",
              "      dtype=float16)"
            ]
          },
          "metadata": {
            "tags": []
          },
          "execution_count": 11
        }
      ]
    },
    {
      "cell_type": "code",
      "metadata": {
        "id": "lo8KmnxVj2vU",
        "outputId": "11fb89e9-03a1-4ab5-b6e3-04c3ac963128",
        "colab": {
          "base_uri": "https://localhost:8080/",
          "height": 34
        }
      },
      "source": [
        "maxi"
      ],
      "execution_count": null,
      "outputs": [
        {
          "output_type": "execute_result",
          "data": {
            "text/plain": [
              "4.645"
            ]
          },
          "metadata": {
            "tags": []
          },
          "execution_count": 141
        }
      ]
    },
    {
      "cell_type": "code",
      "metadata": {
        "id": "YLaxmV-OkBvX"
      },
      "source": [
        "for i,ele in enumerate(transfer_values_val):\n",
        "  transfer_values_val[i]=ele/maxi"
      ],
      "execution_count": null,
      "outputs": []
    },
    {
      "cell_type": "code",
      "metadata": {
        "id": "dJFKjQhOkU2W",
        "outputId": "69e78db0-c804-4424-f182-4b2fe57b58c6",
        "colab": {
          "base_uri": "https://localhost:8080/",
          "height": 52
        }
      },
      "source": [
        "transfer_values_val[0]"
      ],
      "execution_count": null,
      "outputs": [
        {
          "output_type": "execute_result",
          "data": {
            "text/plain": [
              "array([0.04767, 0.511  , 1.859  , ..., 0.     , 0.     , 0.3403 ],\n",
              "      dtype=float16)"
            ]
          },
          "metadata": {
            "tags": []
          },
          "execution_count": 14
        }
      ]
    },
    {
      "cell_type": "code",
      "metadata": {
        "id": "XpCmHsjTazLu",
        "outputId": "d0c5595e-02f9-412d-a2f9-30280556813e",
        "colab": {
          "base_uri": "https://localhost:8080/",
          "height": 34
        }
      },
      "source": [
        "len(caption_final)"
      ],
      "execution_count": null,
      "outputs": [
        {
          "output_type": "execute_result",
          "data": {
            "text/plain": [
              "15732"
            ]
          },
          "metadata": {
            "tags": []
          },
          "execution_count": 15
        }
      ]
    },
    {
      "cell_type": "markdown",
      "metadata": {
        "id": "64ycBO4A9D_d"
      },
      "source": [
        "converting word to tokens and padding it"
      ]
    },
    {
      "cell_type": "code",
      "metadata": {
        "id": "wzCQ7bwTIq0-"
      },
      "source": [
        "sequence=tokeniser.texts_to_sequences(caption_final)\n",
        "padded=pad_sequences(sequence,maxlen=15,padding='post',truncating='post')\n",
        "\n",
        "  \n",
        "  \n",
        "  "
      ],
      "execution_count": 12,
      "outputs": []
    },
    {
      "cell_type": "markdown",
      "metadata": {
        "id": "QHuIQ44c9M7j"
      },
      "source": [
        "time delaying the input to make it the output"
      ]
    },
    {
      "cell_type": "code",
      "metadata": {
        "id": "mte8tYbzQRR1"
      },
      "source": [
        "decoder_input = padded[:,0:-1]\n",
        "decoder_output = padded[:,1:]"
      ],
      "execution_count": 13,
      "outputs": []
    },
    {
      "cell_type": "code",
      "metadata": {
        "id": "uPemu_dORvCD",
        "outputId": "c6fffa94-221d-4efe-ece8-230f48f6a743",
        "colab": {
          "base_uri": "https://localhost:8080/",
          "height": 34
        }
      },
      "source": [
        "decoder_input.shape"
      ],
      "execution_count": 14,
      "outputs": [
        {
          "output_type": "execute_result",
          "data": {
            "text/plain": [
              "(15732, 14)"
            ]
          },
          "metadata": {
            "tags": []
          },
          "execution_count": 14
        }
      ]
    },
    {
      "cell_type": "code",
      "metadata": {
        "id": "F3aigXikI3f0"
      },
      "source": [
        "def Generator():  \n",
        "  x_data={'decoders_input':decoder_input,\n",
        "          'transfer_values_input':transfer_values_val\n",
        "          }\n",
        "  y_data={'decoders_op':decoder_output}\n",
        "  return x_data,y_data\n",
        "x_train,y_train=Generator()"
      ],
      "execution_count": 15,
      "outputs": []
    },
    {
      "cell_type": "code",
      "metadata": {
        "id": "XugLUKGTvnqE",
        "outputId": "6681c6cc-1417-44e5-d06b-5f3bcf493ef0",
        "colab": {
          "base_uri": "https://localhost:8080/",
          "height": 52
        }
      },
      "source": [
        "print(x_train['decoders_input'].shape)\n",
        "print(x_train['transfer_values_input'].shape)"
      ],
      "execution_count": null,
      "outputs": [
        {
          "output_type": "stream",
          "text": [
            "(15732, 14)\n",
            "(15732, 4096)\n"
          ],
          "name": "stdout"
        }
      ]
    },
    {
      "cell_type": "code",
      "metadata": {
        "id": "UuJ4sohs6Owp",
        "outputId": "12baf57c-89dc-4b79-e769-52edaf3a5452",
        "colab": {
          "base_uri": "https://localhost:8080/",
          "height": 52
        }
      },
      "source": [
        "y_train['decoders_op'][0]"
      ],
      "execution_count": null,
      "outputs": [
        {
          "output_type": "execute_result",
          "data": {
            "text/plain": [
              "array([  6,  11,  10,  54,  34,   6, 870,  38,   1, 107,   9, 931, 491,\n",
              "         3], dtype=int32)"
            ]
          },
          "metadata": {
            "tags": []
          },
          "execution_count": 21
        }
      ]
    },
    {
      "cell_type": "markdown",
      "metadata": {
        "id": "srC76nAGEJrt"
      },
      "source": [
        "preparing the captions and preprocessed images"
      ]
    },
    {
      "cell_type": "code",
      "metadata": {
        "id": "2KIjsXQ_I8RX"
      },
      "source": [
        "def get_random_caption_tokens(idx):\n",
        "  result=[]\n",
        "  for i in idx:\n",
        "    j=np.random.choice(len(sequence_final[i]))\n",
        "    tokens=sequence_final[i][j]\n",
        "    result.append(tokens)\n",
        "  return result"
      ],
      "execution_count": null,
      "outputs": []
    },
    {
      "cell_type": "code",
      "metadata": {
        "id": "rPGSRJl8I-sk"
      },
      "source": [
        "def batch_generator(batch_size):\n",
        "  while True:\n",
        "    idx=np.random.randint(len(name),size=batch_size)\n",
        "    transfer_values =  transfer_values_val[idx]\n",
        "    tokens = get_random_caption_tokens(idx)\n",
        "    num_tokens = [len(t) for t in tokens]\n",
        "    max_tokens=np.max(num_tokens)\n",
        "    tokens_padded = pad_sequences(tokens,maxlen=max_tokens, padding='post',truncating='post')\n",
        "    decoder_input_data = tokens_padded[:, 0:-1]\n",
        "    decoder_output_data = tokens_padded[:, 1:]\n",
        "    x_data = \\\n",
        "    {\n",
        "        'decoders_input':decoder_input_data,\n",
        "        'transfer_values_input': transfer_values\n",
        "    }\n",
        "    y_data = \\\n",
        "    {\n",
        "        'decoders_op':decoder_output_data\n",
        "    }\n",
        "    yield (x_data, y_data)"
      ],
      "execution_count": null,
      "outputs": []
    },
    {
      "cell_type": "code",
      "metadata": {
        "id": "lreCOJH-JA1-",
        "outputId": "b48d913b-720b-4573-b603-1cb3dad9ad0d",
        "colab": {
          "base_uri": "https://localhost:8080/",
          "height": 185
        }
      },
      "source": [
        "batch_size = 384\n",
        "generator = batch_generator(batch_size=batch_size)"
      ],
      "execution_count": null,
      "outputs": [
        {
          "output_type": "error",
          "ename": "NameError",
          "evalue": "ignored",
          "traceback": [
            "\u001b[0;31m---------------------------------------------------------------------------\u001b[0m",
            "\u001b[0;31mNameError\u001b[0m                                 Traceback (most recent call last)",
            "\u001b[0;32m<ipython-input-217-28bdf1420ffd>\u001b[0m in \u001b[0;36m<module>\u001b[0;34m()\u001b[0m\n\u001b[1;32m      1\u001b[0m \u001b[0mbatch_size\u001b[0m \u001b[0;34m=\u001b[0m \u001b[0;36m384\u001b[0m\u001b[0;34m\u001b[0m\u001b[0;34m\u001b[0m\u001b[0m\n\u001b[0;32m----> 2\u001b[0;31m \u001b[0mgenerator\u001b[0m \u001b[0;34m=\u001b[0m \u001b[0mbatch_generator\u001b[0m\u001b[0;34m(\u001b[0m\u001b[0mbatch_size\u001b[0m\u001b[0;34m=\u001b[0m\u001b[0mbatch_size\u001b[0m\u001b[0;34m)\u001b[0m\u001b[0;34m\u001b[0m\u001b[0;34m\u001b[0m\u001b[0m\n\u001b[0m",
            "\u001b[0;31mNameError\u001b[0m: name 'batch_generator' is not defined"
          ]
        }
      ]
    },
    {
      "cell_type": "code",
      "metadata": {
        "id": "ud2GyG3PvjPk"
      },
      "source": [
        ""
      ],
      "execution_count": null,
      "outputs": []
    },
    {
      "cell_type": "code",
      "metadata": {
        "id": "SYOZYDTU04EP",
        "outputId": "f767e739-0c37-49af-ac9b-534df3a7bd0f",
        "colab": {
          "base_uri": "https://localhost:8080/",
          "height": 203
        }
      },
      "source": [
        "batch_x,batch_y=next(generator)\n",
        "print(batch_x['decoders_input'][0])\n",
        "print(batch_y['decoders_op'][0])"
      ],
      "execution_count": null,
      "outputs": [
        {
          "output_type": "error",
          "ename": "NameError",
          "evalue": "ignored",
          "traceback": [
            "\u001b[0;31m---------------------------------------------------------------------------\u001b[0m",
            "\u001b[0;31mNameError\u001b[0m                                 Traceback (most recent call last)",
            "\u001b[0;32m<ipython-input-216-6bdb000ddb6a>\u001b[0m in \u001b[0;36m<module>\u001b[0;34m()\u001b[0m\n\u001b[0;32m----> 1\u001b[0;31m \u001b[0mbatch_x\u001b[0m\u001b[0;34m,\u001b[0m\u001b[0mbatch_y\u001b[0m\u001b[0;34m=\u001b[0m\u001b[0mnext\u001b[0m\u001b[0;34m(\u001b[0m\u001b[0mgenerator\u001b[0m\u001b[0;34m)\u001b[0m\u001b[0;34m\u001b[0m\u001b[0;34m\u001b[0m\u001b[0m\n\u001b[0m\u001b[1;32m      2\u001b[0m \u001b[0mprint\u001b[0m\u001b[0;34m(\u001b[0m\u001b[0mbatch_x\u001b[0m\u001b[0;34m[\u001b[0m\u001b[0;34m'decoders_input'\u001b[0m\u001b[0;34m]\u001b[0m\u001b[0;34m[\u001b[0m\u001b[0;36m0\u001b[0m\u001b[0;34m]\u001b[0m\u001b[0;34m)\u001b[0m\u001b[0;34m\u001b[0m\u001b[0;34m\u001b[0m\u001b[0m\n\u001b[1;32m      3\u001b[0m \u001b[0mprint\u001b[0m\u001b[0;34m(\u001b[0m\u001b[0mbatch_y\u001b[0m\u001b[0;34m[\u001b[0m\u001b[0;34m'decoders_op'\u001b[0m\u001b[0;34m]\u001b[0m\u001b[0;34m[\u001b[0m\u001b[0;36m0\u001b[0m\u001b[0;34m]\u001b[0m\u001b[0;34m)\u001b[0m\u001b[0;34m\u001b[0m\u001b[0;34m\u001b[0m\u001b[0m\n",
            "\u001b[0;31mNameError\u001b[0m: name 'generator' is not defined"
          ]
        }
      ]
    },
    {
      "cell_type": "code",
      "metadata": {
        "id": "4gS6HTvfJDWB"
      },
      "source": [
        "steps_per_epoch = 1541\n",
        "num_words=len(tokeniser.word_index)"
      ],
      "execution_count": null,
      "outputs": []
    },
    {
      "cell_type": "code",
      "metadata": {
        "id": "Aj-gkSCkJFRA"
      },
      "source": [
        "transfer_values_input = keras.layers.Input(shape=(4096,),\n",
        "                              name='transfer_values_input')\n",
        "\n",
        "decoder_transfer_map = keras.layers.Dense(512,\n",
        "                             activation='tanh',\n",
        "                             name='decoder_transfer_map')\n",
        "\n",
        "decoders_input = keras.layers.Input(shape=(None, ), name='decoders_input')\n",
        "decoder_embedding = keras.layers.Embedding(input_dim=num_words+1,\n",
        "                              output_dim=128,\n",
        "                              name='decoder_embedding')\n",
        "\n",
        "decoder_LSTM1 = keras.layers.GRU(512, name='decoder_gru1',\n",
        "                   return_sequences=True)\n",
        "decoder_LSTM2 = keras.layers.GRU(512, name='decoder_gru2',\n",
        "                   return_sequences=True)\n",
        "decoder_LSTM3 = keras.layers.GRU(512, name='decoder_gru3',\n",
        "                   return_sequences=True)\n",
        "\n",
        "decoder_dense=keras.layers.Dense(num_words+1,activation='softmax',name='decoders_op')"
      ],
      "execution_count": null,
      "outputs": []
    },
    {
      "cell_type": "code",
      "metadata": {
        "id": "ISH8RyB-JJN5"
      },
      "source": [
        "def connect_decoder(transfer_values_input):\n",
        "    \n",
        "    initial_state = decoder_transfer_map(transfer_values_input)\n",
        "    '''initial_state = keras.layers.Dropout(0.4)(initial_state)'''\n",
        "    \n",
        "\n",
        "    # Start the decoder-network with its input-layer.\n",
        "    net = decoders_input\n",
        "    \n",
        "    # Connect the embedding-layer.\n",
        "    net = decoder_embedding(net)\n",
        "    \n",
        "    # Connect all the GRU layers.\n",
        "    net = decoder_LSTM1(net, initial_state=initial_state)\n",
        "    \n",
        "    net = decoder_LSTM2(net, initial_state=initial_state)\n",
        "    \n",
        "    net = decoder_LSTM3(net, initial_state=initial_state)\n",
        "    '''net = keras.layers.Dropout(0.4)(net)'''\n",
        "    \n",
        "\n",
        "    # Connect the final dense layer that converts to\n",
        "    # one-hot encoded arrays.\n",
        "    decoders_output = decoder_dense(net)\n",
        "    \n",
        "    return decoders_output"
      ],
      "execution_count": null,
      "outputs": []
    },
    {
      "cell_type": "code",
      "metadata": {
        "id": "q0v5f5nBQLiG"
      },
      "source": [
        "transfer_values_input = keras.layers.Input(shape=(4096,),\n",
        "                              name='transfer_values_input')\n",
        "\n",
        "decoder_transfer_map = keras.layers.Dense(1024,\n",
        "                             activation='tanh',\n",
        "                             name='decoder_transfer_map')\n",
        "\n",
        "decoders_input = keras.layers.Input(shape=(None, ), name='decoders_input')\n",
        "decoder_embedding = keras.layers.Embedding(input_dim=num_words+1,\n",
        "                              output_dim=128,\n",
        "                              name='decoder_embedding')\n",
        "\n",
        "decoder_LSTM1 = keras.layers.GRU(1024, name='decoder_gru1',\n",
        "                   return_sequences=True)\n",
        "\n",
        "decoder_LSTM2 = keras.layers.GRU(1024, name='decoder_gru2',\n",
        "                   return_sequences=True)\n",
        "\n",
        "decoder_LSTM3 = keras.layers.GRU(1024, name='decoder_gru3',\n",
        "                   return_sequences=True)\n",
        "\n",
        "\n",
        "decoder_dense=keras.layers.Dense(num_words+1,activation='softmax',name='decoders_op')"
      ],
      "execution_count": null,
      "outputs": []
    },
    {
      "cell_type": "code",
      "metadata": {
        "id": "-mC38Kgg2m8P",
        "outputId": "b23f0948-60f6-4b5d-8e97-628371187a8e",
        "colab": {
          "base_uri": "https://localhost:8080/",
          "height": 34
        }
      },
      "source": [
        "decoder_LSTM3.output_shape"
      ],
      "execution_count": null,
      "outputs": [
        {
          "output_type": "execute_result",
          "data": {
            "text/plain": [
              "(None, None, 512)"
            ]
          },
          "metadata": {
            "tags": []
          },
          "execution_count": 222
        }
      ]
    },
    {
      "cell_type": "code",
      "metadata": {
        "id": "p3xc5RZ8JL5a"
      },
      "source": [
        "decoders_output = connect_decoder(transfer_values_input)\n",
        "\n",
        "decoder_model = keras.Model(inputs=[transfer_values_input, decoders_input],\n",
        "                      outputs=[decoders_output])"
      ],
      "execution_count": null,
      "outputs": []
    },
    {
      "cell_type": "code",
      "metadata": {
        "id": "mdi6VjykJOVv"
      },
      "source": [
        "decoder_model.compile(optimizer=keras.optimizers.RMSprop(lr=1e-3),\n",
        "                      loss='sparse_categorical_crossentropy')"
      ],
      "execution_count": null,
      "outputs": []
    },
    {
      "cell_type": "code",
      "metadata": {
        "id": "EYHW1-AmKdDy",
        "outputId": "49b21ade-e62a-4337-ecf6-1be39f837105",
        "colab": {
          "base_uri": "https://localhost:8080/",
          "height": 496
        }
      },
      "source": [
        "decoder_model.summary()"
      ],
      "execution_count": null,
      "outputs": [
        {
          "output_type": "stream",
          "text": [
            "Model: \"functional_5\"\n",
            "__________________________________________________________________________________________________\n",
            "Layer (type)                    Output Shape         Param #     Connected to                     \n",
            "==================================================================================================\n",
            "decoders_input (InputLayer)     [(None, None)]       0                                            \n",
            "__________________________________________________________________________________________________\n",
            "transfer_values_input (InputLay [(None, 4096)]       0                                            \n",
            "__________________________________________________________________________________________________\n",
            "decoder_embedding (Embedding)   (None, None, 128)    1523072     decoders_input[0][0]             \n",
            "__________________________________________________________________________________________________\n",
            "decoder_transfer_map (Dense)    (None, 512)          2097664     transfer_values_input[0][0]      \n",
            "__________________________________________________________________________________________________\n",
            "decoder_gru1 (GRU)              (None, None, 512)    986112      decoder_embedding[0][0]          \n",
            "                                                                 decoder_transfer_map[0][0]       \n",
            "__________________________________________________________________________________________________\n",
            "decoder_gru2 (GRU)              (None, None, 512)    1575936     decoder_gru1[0][0]               \n",
            "                                                                 decoder_transfer_map[0][0]       \n",
            "__________________________________________________________________________________________________\n",
            "decoder_gru3 (GRU)              (None, None, 512)    1575936     decoder_gru2[0][0]               \n",
            "                                                                 decoder_transfer_map[0][0]       \n",
            "__________________________________________________________________________________________________\n",
            "decoders_op (Dense)             (None, None, 11899)  6104187     decoder_gru3[0][0]               \n",
            "==================================================================================================\n",
            "Total params: 13,862,907\n",
            "Trainable params: 13,862,907\n",
            "Non-trainable params: 0\n",
            "__________________________________________________________________________________________________\n"
          ],
          "name": "stdout"
        }
      ]
    },
    {
      "cell_type": "code",
      "metadata": {
        "id": "xa_4JlH-fB_o",
        "outputId": "2fd55de5-2463-4b2d-b611-d350db99d243",
        "colab": {
          "base_uri": "https://localhost:8080/",
          "height": 1000
        }
      },
      "source": [
        "decoder_model.fit(x=x_train,\n",
        "                  y=y_train,\n",
        "                  \n",
        "                  \n",
        "                  epochs=60)\n",
        "decoder_model.save_weights('/content/gdrive/My Drive/coco/decoder_model_weights_VGG16_notsure512nosteps',overwrite=True)"
      ],
      "execution_count": null,
      "outputs": [
        {
          "output_type": "stream",
          "text": [
            "Epoch 1/60\n",
            "492/492 [==============================] - 9s 18ms/step - loss: 3.6664\n",
            "Epoch 2/60\n",
            "492/492 [==============================] - 9s 18ms/step - loss: 2.9928\n",
            "Epoch 3/60\n",
            "492/492 [==============================] - 9s 18ms/step - loss: 2.7657\n",
            "Epoch 4/60\n",
            "492/492 [==============================] - 9s 18ms/step - loss: 2.6222\n",
            "Epoch 5/60\n",
            "492/492 [==============================] - 9s 19ms/step - loss: 2.5207\n",
            "Epoch 6/60\n",
            "492/492 [==============================] - 9s 19ms/step - loss: 2.4331\n",
            "Epoch 7/60\n",
            "492/492 [==============================] - 9s 19ms/step - loss: 2.3578\n",
            "Epoch 8/60\n",
            "492/492 [==============================] - 9s 19ms/step - loss: 2.2862\n",
            "Epoch 9/60\n",
            "492/492 [==============================] - 9s 19ms/step - loss: 2.2194\n",
            "Epoch 10/60\n",
            "492/492 [==============================] - 9s 19ms/step - loss: 2.1533\n",
            "Epoch 11/60\n",
            "492/492 [==============================] - 9s 19ms/step - loss: 2.0930\n",
            "Epoch 12/60\n",
            "492/492 [==============================] - 9s 19ms/step - loss: 2.0305\n",
            "Epoch 13/60\n",
            "492/492 [==============================] - 9s 19ms/step - loss: 1.9716\n",
            "Epoch 14/60\n",
            "492/492 [==============================] - 9s 19ms/step - loss: 1.9160\n",
            "Epoch 15/60\n",
            "492/492 [==============================] - 9s 19ms/step - loss: 1.8602\n",
            "Epoch 16/60\n",
            "492/492 [==============================] - 9s 19ms/step - loss: 1.8145\n",
            "Epoch 17/60\n",
            "492/492 [==============================] - 9s 19ms/step - loss: 1.7733\n",
            "Epoch 18/60\n",
            "492/492 [==============================] - 9s 19ms/step - loss: 1.7357\n",
            "Epoch 19/60\n",
            "492/492 [==============================] - 9s 19ms/step - loss: 1.7009\n",
            "Epoch 20/60\n",
            "492/492 [==============================] - 9s 19ms/step - loss: 1.6641\n",
            "Epoch 21/60\n",
            "492/492 [==============================] - 9s 18ms/step - loss: 1.6341\n",
            "Epoch 22/60\n",
            "492/492 [==============================] - 10s 20ms/step - loss: 1.6013\n",
            "Epoch 23/60\n",
            "492/492 [==============================] - 9s 19ms/step - loss: 1.5682\n",
            "Epoch 24/60\n",
            "492/492 [==============================] - 9s 19ms/step - loss: 1.5363\n",
            "Epoch 25/60\n",
            "492/492 [==============================] - 9s 19ms/step - loss: 1.5052\n",
            "Epoch 26/60\n",
            "492/492 [==============================] - 9s 19ms/step - loss: 1.4737\n",
            "Epoch 27/60\n",
            "492/492 [==============================] - 9s 19ms/step - loss: 1.4449\n",
            "Epoch 28/60\n",
            "492/492 [==============================] - 9s 19ms/step - loss: 1.4160\n",
            "Epoch 29/60\n",
            "492/492 [==============================] - 9s 19ms/step - loss: 1.3900\n",
            "Epoch 30/60\n",
            "492/492 [==============================] - 9s 18ms/step - loss: 1.3637\n",
            "Epoch 31/60\n",
            "492/492 [==============================] - 9s 19ms/step - loss: 1.3399\n",
            "Epoch 32/60\n",
            "492/492 [==============================] - 9s 19ms/step - loss: 1.3191\n",
            "Epoch 33/60\n",
            "492/492 [==============================] - 9s 19ms/step - loss: 1.2973\n",
            "Epoch 34/60\n",
            "492/492 [==============================] - 9s 19ms/step - loss: 1.2754\n",
            "Epoch 35/60\n",
            "492/492 [==============================] - 9s 19ms/step - loss: 1.2554\n",
            "Epoch 36/60\n",
            "492/492 [==============================] - 9s 18ms/step - loss: 1.2369\n",
            "Epoch 37/60\n",
            "492/492 [==============================] - 9s 19ms/step - loss: 1.2200\n",
            "Epoch 38/60\n",
            "492/492 [==============================] - 9s 19ms/step - loss: 1.2067\n",
            "Epoch 39/60\n",
            "492/492 [==============================] - 9s 19ms/step - loss: 1.1908\n",
            "Epoch 40/60\n",
            "492/492 [==============================] - 9s 18ms/step - loss: 1.1723\n",
            "Epoch 41/60\n",
            "492/492 [==============================] - 9s 18ms/step - loss: 1.1601\n",
            "Epoch 42/60\n",
            "492/492 [==============================] - 9s 18ms/step - loss: 1.1457\n",
            "Epoch 43/60\n",
            "492/492 [==============================] - 9s 19ms/step - loss: 1.1319\n",
            "Epoch 44/60\n",
            "492/492 [==============================] - 9s 19ms/step - loss: 1.1192\n",
            "Epoch 45/60\n",
            "492/492 [==============================] - 9s 19ms/step - loss: 1.1093\n",
            "Epoch 46/60\n",
            "492/492 [==============================] - 9s 19ms/step - loss: 1.0966\n",
            "Epoch 47/60\n",
            "492/492 [==============================] - 9s 19ms/step - loss: 1.0867\n",
            "Epoch 48/60\n",
            "492/492 [==============================] - 9s 18ms/step - loss: 1.0746\n",
            "Epoch 49/60\n",
            "492/492 [==============================] - 9s 18ms/step - loss: 1.0676\n",
            "Epoch 50/60\n",
            "492/492 [==============================] - 9s 19ms/step - loss: 1.0592\n",
            "Epoch 51/60\n",
            "492/492 [==============================] - 9s 19ms/step - loss: 1.0510\n",
            "Epoch 52/60\n",
            "492/492 [==============================] - 9s 19ms/step - loss: 1.0408\n",
            "Epoch 53/60\n",
            "492/492 [==============================] - 9s 19ms/step - loss: 1.0315\n",
            "Epoch 54/60\n",
            "492/492 [==============================] - 9s 19ms/step - loss: 1.0263\n",
            "Epoch 55/60\n",
            "492/492 [==============================] - 9s 19ms/step - loss: 1.0168\n",
            "Epoch 56/60\n",
            "492/492 [==============================] - 10s 20ms/step - loss: 1.0074\n",
            "Epoch 57/60\n",
            "492/492 [==============================] - 9s 18ms/step - loss: 0.9987\n",
            "Epoch 58/60\n",
            "492/492 [==============================] - 9s 18ms/step - loss: 0.9922\n",
            "Epoch 59/60\n",
            "492/492 [==============================] - 9s 18ms/step - loss: 0.9844\n",
            "Epoch 60/60\n",
            "492/492 [==============================] - 9s 18ms/step - loss: 0.9771\n"
          ],
          "name": "stdout"
        }
      ]
    },
    {
      "cell_type": "code",
      "metadata": {
        "id": "6_wAbfWfIPje",
        "outputId": "5b0bfc95-c112-42f7-d762-96cb336bcf40",
        "colab": {
          "base_uri": "https://localhost:8080/",
          "height": 34
        }
      },
      "source": [
        "decoder_model.load_weights('/content/gdrive/My Drive/coco/decoder_model_weights_VGG16_notsure')"
      ],
      "execution_count": null,
      "outputs": [
        {
          "output_type": "execute_result",
          "data": {
            "text/plain": [
              "<tensorflow.python.training.tracking.util.CheckpointLoadStatus at 0x7f3b301bd828>"
            ]
          },
          "metadata": {
            "tags": []
          },
          "execution_count": 16
        }
      ]
    },
    {
      "cell_type": "code",
      "metadata": {
        "id": "dqw4_4ub5rw2",
        "outputId": "4f6384a5-6d12-43e8-9cea-8a79598fec59",
        "colab": {
          "base_uri": "https://localhost:8080/",
          "height": 34
        }
      },
      "source": [
        "decoder_model.save('/content/gdrive/My Drive/coco/decoder_model_final')"
      ],
      "execution_count": null,
      "outputs": [
        {
          "output_type": "stream",
          "text": [
            "INFO:tensorflow:Assets written to: /content/gdrive/My Drive/coco/decoder_model_final/assets\n"
          ],
          "name": "stdout"
        }
      ]
    },
    {
      "cell_type": "code",
      "metadata": {
        "id": "k5PyzBOBzeJo"
      },
      "source": [
        "decoder_model=keras.models.load_model('/content/gdrive/My Drive/coco/decoder_model_final')"
      ],
      "execution_count": 16,
      "outputs": []
    },
    {
      "cell_type": "code",
      "metadata": {
        "id": "WfoffvVibem2"
      },
      "source": [
        "from tensorflow import keras\n"
      ],
      "execution_count": 17,
      "outputs": []
    },
    {
      "cell_type": "code",
      "metadata": {
        "id": "sqKUGWzoJ17v",
        "outputId": "16c160ea-ff46-4bce-c7dc-4365f3e74381",
        "colab": {
          "base_uri": "https://localhost:8080/",
          "height": 34
        }
      },
      "source": [
        "decoder_model.load_weights('/content/gdrive/My Drive/coco/decoder_model_weights_VGG16_finese')"
      ],
      "execution_count": null,
      "outputs": [
        {
          "output_type": "execute_result",
          "data": {
            "text/plain": [
              "<tensorflow.python.training.tracking.util.CheckpointLoadStatus at 0x7fd65d7cdeb8>"
            ]
          },
          "metadata": {
            "tags": []
          },
          "execution_count": 23
        }
      ]
    },
    {
      "cell_type": "code",
      "metadata": {
        "id": "aJRSTsC4J93B",
        "outputId": "6366cdbf-b84a-4ce5-e106-4f9d83a7c942",
        "colab": {
          "base_uri": "https://localhost:8080/",
          "height": 941
        }
      },
      "source": [
        "from keras.applications import VGG16\n",
        "base_model=VGG16(weights='imagenet',include_top=True)\n",
        "for layers in base_model.layers:\n",
        "  layers.trainable=False\n",
        "last_layer=base_model.layers[-2]\n",
        "last_output=last_layer.output\n",
        "\n",
        "img_model=keras.Model(base_model.input,last_output)\n",
        "img_model.summary()"
      ],
      "execution_count": null,
      "outputs": [
        {
          "output_type": "stream",
          "text": [
            "Model: \"functional_9\"\n",
            "_________________________________________________________________\n",
            "Layer (type)                 Output Shape              Param #   \n",
            "=================================================================\n",
            "input_2 (InputLayer)         [(None, 224, 224, 3)]     0         \n",
            "_________________________________________________________________\n",
            "block1_conv1 (Conv2D)        (None, 224, 224, 64)      1792      \n",
            "_________________________________________________________________\n",
            "block1_conv2 (Conv2D)        (None, 224, 224, 64)      36928     \n",
            "_________________________________________________________________\n",
            "block1_pool (MaxPooling2D)   (None, 112, 112, 64)      0         \n",
            "_________________________________________________________________\n",
            "block2_conv1 (Conv2D)        (None, 112, 112, 128)     73856     \n",
            "_________________________________________________________________\n",
            "block2_conv2 (Conv2D)        (None, 112, 112, 128)     147584    \n",
            "_________________________________________________________________\n",
            "block2_pool (MaxPooling2D)   (None, 56, 56, 128)       0         \n",
            "_________________________________________________________________\n",
            "block3_conv1 (Conv2D)        (None, 56, 56, 256)       295168    \n",
            "_________________________________________________________________\n",
            "block3_conv2 (Conv2D)        (None, 56, 56, 256)       590080    \n",
            "_________________________________________________________________\n",
            "block3_conv3 (Conv2D)        (None, 56, 56, 256)       590080    \n",
            "_________________________________________________________________\n",
            "block3_pool (MaxPooling2D)   (None, 28, 28, 256)       0         \n",
            "_________________________________________________________________\n",
            "block4_conv1 (Conv2D)        (None, 28, 28, 512)       1180160   \n",
            "_________________________________________________________________\n",
            "block4_conv2 (Conv2D)        (None, 28, 28, 512)       2359808   \n",
            "_________________________________________________________________\n",
            "block4_conv3 (Conv2D)        (None, 28, 28, 512)       2359808   \n",
            "_________________________________________________________________\n",
            "block4_pool (MaxPooling2D)   (None, 14, 14, 512)       0         \n",
            "_________________________________________________________________\n",
            "block5_conv1 (Conv2D)        (None, 14, 14, 512)       2359808   \n",
            "_________________________________________________________________\n",
            "block5_conv2 (Conv2D)        (None, 14, 14, 512)       2359808   \n",
            "_________________________________________________________________\n",
            "block5_conv3 (Conv2D)        (None, 14, 14, 512)       2359808   \n",
            "_________________________________________________________________\n",
            "block5_pool (MaxPooling2D)   (None, 7, 7, 512)         0         \n",
            "_________________________________________________________________\n",
            "flatten (Flatten)            (None, 25088)             0         \n",
            "_________________________________________________________________\n",
            "fc1 (Dense)                  (None, 4096)              102764544 \n",
            "_________________________________________________________________\n",
            "fc2 (Dense)                  (None, 4096)              16781312  \n",
            "=================================================================\n",
            "Total params: 134,260,544\n",
            "Trainable params: 0\n",
            "Non-trainable params: 134,260,544\n",
            "_________________________________________________________________\n"
          ],
          "name": "stdout"
        }
      ]
    },
    {
      "cell_type": "markdown",
      "metadata": {
        "id": "ABgeu9y2DyTB"
      },
      "source": [
        "TESTING PHASE\n"
      ]
    },
    {
      "cell_type": "code",
      "metadata": {
        "id": "ciagDIm924Qr",
        "outputId": "8a3f9db0-ab5d-46df-e525-644fa9b824ad",
        "colab": {
          "base_uri": "https://localhost:8080/",
          "height": 161
        }
      },
      "source": [
        "img_model.save('/content/gdrive/My Drive/coco/VGG16final1')"
      ],
      "execution_count": null,
      "outputs": [
        {
          "output_type": "stream",
          "text": [
            "WARNING:tensorflow:From /usr/local/lib/python3.6/dist-packages/tensorflow/python/training/tracking/tracking.py:111: Model.state_updates (from tensorflow.python.keras.engine.training) is deprecated and will be removed in a future version.\n",
            "Instructions for updating:\n",
            "This property should not be used in TensorFlow 2.0, as updates are applied automatically.\n",
            "WARNING:tensorflow:From /usr/local/lib/python3.6/dist-packages/tensorflow/python/training/tracking/tracking.py:111: Layer.updates (from tensorflow.python.keras.engine.base_layer) is deprecated and will be removed in a future version.\n",
            "Instructions for updating:\n",
            "This property should not be used in TensorFlow 2.0, as updates are applied automatically.\n",
            "INFO:tensorflow:Assets written to: /content/gdrive/My Drive/coco/VGG16final/assets\n"
          ],
          "name": "stdout"
        }
      ]
    },
    {
      "cell_type": "code",
      "metadata": {
        "id": "HTm0XKFTzty0",
        "outputId": "7f2d940e-6ae3-4c7d-a917-11fc27102834",
        "colab": {
          "base_uri": "https://localhost:8080/",
          "height": 34
        }
      },
      "source": [
        "img_model=keras.models.load_model('/content/gdrive/My Drive/coco/VGG16final')"
      ],
      "execution_count": 18,
      "outputs": [
        {
          "output_type": "stream",
          "text": [
            "WARNING:tensorflow:No training configuration found in save file, so the model was *not* compiled. Compile it manually.\n"
          ],
          "name": "stdout"
        }
      ]
    },
    {
      "cell_type": "code",
      "metadata": {
        "id": "fsQs2BLEInjX"
      },
      "source": [
        "COCO_val2014_000000000641.jpg\n",
        "COCO_val2014_000000000827.jpg\n",
        "COCO_val2014_000000000397.jpg\n",
        "COCO_val2014_000000001149.jpg"
      ],
      "execution_count": null,
      "outputs": []
    },
    {
      "cell_type": "code",
      "metadata": {
        "id": "IyWWPpFeJ_8t",
        "outputId": "953ee8c2-1275-4b44-e042-1b3fb0af9eb7",
        "colab": {
          "base_uri": "https://localhost:8080/",
          "height": 52
        }
      },
      "source": [
        "img=Image.open('/content/gdrive/My Drive/coco/Field-green-tea-Mount-Fuji-Shizuoka-prefecture.jpg')\n",
        " \n",
        "img=img.resize(size=(224,224), resample=Image.LANCZOS)\n",
        "image=np.array(img)\n",
        "\n",
        "image_batch = np.expand_dims(image, axis=0)\n",
        "print(image_batch.shape)\n",
        "print(image.shape)"
      ],
      "execution_count": 29,
      "outputs": [
        {
          "output_type": "stream",
          "text": [
            "(1, 224, 224, 3)\n",
            "(224, 224, 3)\n"
          ],
          "name": "stdout"
        }
      ]
    },
    {
      "cell_type": "code",
      "metadata": {
        "id": "d9dDb6n2Y49J",
        "outputId": "fd41ba9f-6168-4478-bb15-65b3d45c554e",
        "colab": {
          "base_uri": "https://localhost:8080/",
          "height": 286
        }
      },
      "source": [
        "plt.imshow(img)"
      ],
      "execution_count": 30,
      "outputs": [
        {
          "output_type": "execute_result",
          "data": {
            "text/plain": [
              "<matplotlib.image.AxesImage at 0x7ff380d40c50>"
            ]
          },
          "metadata": {
            "tags": []
          },
          "execution_count": 30
        },
        {
          "output_type": "display_data",
          "data": {
            "image/png": "[encoded data removed]",
            "text/plain": [
              "<Figure size 432x288 with 1 Axes>"
            ]
          },
          "metadata": {
            "tags": [],
            "needs_background": "light"
          }
        }
      ]
    },
    {
      "cell_type": "code",
      "metadata": {
        "id": "Nd2DKEw4KA-F"
      },
      "source": [
        "transfered_values = img_model.predict(image_batch)"
      ],
      "execution_count": 31,
      "outputs": []
    },
    {
      "cell_type": "code",
      "metadata": {
        "id": "2l4A7o3-g4Pu"
      },
      "source": [
        "transfered_values[0]=transfered_values[0]/maxi"
      ],
      "execution_count": null,
      "outputs": []
    },
    {
      "cell_type": "code",
      "metadata": {
        "id": "Lwovrrk2gmNr",
        "outputId": "84be891a-7af0-4392-e688-dece6cf0e55f",
        "colab": {
          "base_uri": "https://localhost:8080/",
          "height": 52
        }
      },
      "source": [
        "transfered_values"
      ],
      "execution_count": null,
      "outputs": [
        {
          "output_type": "execute_result",
          "data": {
            "text/plain": [
              "array([[0.270189 , 0.       , 0.       , ..., 0.       , 3.0208511,\n",
              "        0.2267344]], dtype=float32)"
            ]
          },
          "metadata": {
            "tags": []
          },
          "execution_count": 186
        }
      ]
    },
    {
      "cell_type": "code",
      "metadata": {
        "id": "-EQc9O4bOLDm",
        "outputId": "c015348d-0329-407d-edc1-8000176aa3ba",
        "colab": {
          "base_uri": "https://localhost:8080/",
          "height": 52
        }
      },
      "source": [
        "transfered_values"
      ],
      "execution_count": null,
      "outputs": [
        {
          "output_type": "execute_result",
          "data": {
            "text/plain": [
              "array([[0.270189 , 0.       , 0.       , ..., 0.       , 3.0208511,\n",
              "        0.2267344]], dtype=float32)"
            ]
          },
          "metadata": {
            "tags": []
          },
          "execution_count": 191
        }
      ]
    },
    {
      "cell_type": "code",
      "metadata": {
        "id": "Iaeqgz9mKC3g",
        "outputId": "4302e591-cdc1-4625-ec96-8d05d5ac7579",
        "colab": {
          "base_uri": "https://localhost:8080/",
          "height": 34
        }
      },
      "source": [
        "start_word=tokeniser.word_index['sos']\n",
        "end_word=tokeniser.word_index['eos']\n",
        "corpus_index=tokeniser.word_index\n",
        "corpus_index={value:key for key,value in corpus_index.items()}\n",
        "reverse_corpus_index={value:key for key,value in corpus_index.items()}\n",
        "reverse_corpus_index['man']"
      ],
      "execution_count": 32,
      "outputs": [
        {
          "output_type": "execute_result",
          "data": {
            "text/plain": [
              "11"
            ]
          },
          "metadata": {
            "tags": []
          },
          "execution_count": 32
        }
      ]
    },
    {
      "cell_type": "code",
      "metadata": {
        "id": "HkfzVCfwENyM",
        "outputId": "7edd37d7-1c2a-42e3-f972-ce5cd39d0929",
        "colab": {
          "base_uri": "https://localhost:8080/",
          "height": 34
        }
      },
      "source": [
        "start_word"
      ],
      "execution_count": 25,
      "outputs": [
        {
          "output_type": "execute_result",
          "data": {
            "text/plain": [
              "2"
            ]
          },
          "metadata": {
            "tags": []
          },
          "execution_count": 25
        }
      ]
    },
    {
      "cell_type": "code",
      "metadata": {
        "id": "Nr-FAXloKO_8"
      },
      "source": [
        "def sample(preds,temperature=1.0):\n",
        "  preds =np.asarray(preds).astype('float64')\n",
        "  preds=np.log(preds)/temperature\n",
        "  exp_preds=np.exp(preds)\n",
        "  preds=exp_preds/np.sum(exp_preds)\n",
        "  \n",
        "  \n",
        "  '''preds=preds.reshape(preds.shape[1])'''\n",
        "  probas = np.random.multinomial(1, preds, 1)\n",
        "  return np.argmax(probas)"
      ],
      "execution_count": null,
      "outputs": []
    },
    {
      "cell_type": "code",
      "metadata": {
        "id": "NKS_hxnwKUGJ",
        "outputId": "4bd03bdc-bd2d-43cd-adb3-a29b7d70a7f6",
        "colab": {
          "base_uri": "https://localhost:8080/",
          "height": 194
        }
      },
      "source": [
        "decode_input=np.zeros(shape=(1,30),dtype=np.int)\n",
        "\n",
        "curr_token=start_word\n",
        "count_tokens=0\n",
        "max_token=30\n",
        "output_text = ''\n",
        "i=0\n",
        "while curr_token!=end_word and count_tokens<max_token:\n",
        "  \n",
        "  decode_input[0,count_tokens]=curr_token\n",
        "  x_data={\n",
        "      'decoders_input': decode_input,\n",
        "      'transfer_values_input': transfered_values\n",
        "      \n",
        "  }\n",
        "  decode_output = decoder_model.predict(x_data)\n",
        "  token_output=decode_output[0,count_tokens,:]\n",
        "  pred=np.argmax(token_output)\n",
        "  '''if pred == 11:\n",
        "    token_output=np.delete(token_output,pred)\n",
        "    pred=np.argmax(token_output)'''\n",
        "\n",
        "  \n",
        "  curr_token=pred\n",
        "  print(pred)\n",
        "  sampled_word = corpus_index[pred]\n",
        "  count_tokens += 1\n",
        "  '''if i == 0:\n",
        "    temp=curr_token\n",
        "  if i<4:\n",
        "    i+=1\n",
        "    curr_token=start_word\n",
        "    continue'''\n",
        "  output_text += \" \" + sampled_word"
      ],
      "execution_count": 33,
      "outputs": [
        {
          "output_type": "stream",
          "text": [
            "1\n",
            "50\n",
            "145\n",
            "176\n",
            "13\n",
            "20\n",
            "12\n",
            "1\n",
            "171\n",
            "3\n"
          ],
          "name": "stdout"
        }
      ]
    },
    {
      "cell_type": "code",
      "metadata": {
        "id": "MLwxUwEtFNWy",
        "outputId": "c1164e37-0e2b-4197-be12-47644620f08b",
        "colab": {
          "base_uri": "https://localhost:8080/",
          "height": 52
        }
      },
      "source": [
        "token_output"
      ],
      "execution_count": 34,
      "outputs": [
        {
          "output_type": "execute_result",
          "data": {
            "text/plain": [
              "array([7.8097102e-09, 5.8168534e-04, 4.5168136e-08, ..., 4.5077421e-08,\n",
              "       4.5239698e-08, 4.2728541e-08], dtype=float32)"
            ]
          },
          "metadata": {
            "tags": []
          },
          "execution_count": 34
        }
      ]
    },
    {
      "cell_type": "code",
      "metadata": {
        "id": "QZhIrgN6bCUN",
        "outputId": "85a81950-79e8-40d3-d2ec-89fb1fb19a62",
        "colab": {
          "base_uri": "https://localhost:8080/",
          "height": 35
        }
      },
      "source": [
        "output_text"
      ],
      "execution_count": 35,
      "outputs": [
        {
          "output_type": "execute_result",
          "data": {
            "application/vnd.google.colaboratory.intrinsic+json": {
              "type": "string"
            },
            "text/plain": [
              "' a red fire hydrant sitting next to a sandwich eos'"
            ]
          },
          "metadata": {
            "tags": []
          },
          "execution_count": 35
        }
      ]
    }
  ]
}